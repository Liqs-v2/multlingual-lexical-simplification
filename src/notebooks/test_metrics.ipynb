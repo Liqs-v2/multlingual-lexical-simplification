{
 "cells": [
  {
   "cell_type": "code",
   "execution_count": null,
   "metadata": {},
   "outputs": [],
   "source": [
    "from google.colab import drive\n",
    "drive.mount('/content/drive', force_remount=True)"
   ]
  },
  {
   "cell_type": "code",
   "execution_count": null,
   "metadata": {},
   "outputs": [],
   "source": [
    "from tqdm import tqdm"
   ]
  },
  {
   "cell_type": "code",
   "execution_count": null,
   "metadata": {},
   "outputs": [],
   "source": [
    "import sys\n",
    "sys.path.append('/content/drive/MyDrive/nlp_ss24/multilingual-lexical-simplification')\n",
    "sys.path.append('/content/drive/MyDrive/nlp_ss24/multilingual-lexical-simplification/src')"
   ]
  },
  {
   "cell_type": "code",
   "execution_count": null,
   "metadata": {},
   "outputs": [],
   "source": [
    "from transformers import AutoModelForMaskedLM, AutoTokenizer\n",
    "\n",
    "# Load the tokenizer and model\n",
    "tokenizer = AutoTokenizer.from_pretrained(\"google-bert/bert-base-german-cased\")\n",
    "model = AutoModelForMaskedLM.from_pretrained(\"google-bert/bert-base-german-cased\")\n",
    "\n",
    "# Specify the patter to use for this lexical simplifier\n",
    "bert_pattern = '{original_sentence} Die vereinfachte Version des vorigen Satzes ist: {sentence_with_complex_word_masked}'"
   ]
  },
  {
   "cell_type": "code",
   "execution_count": null,
   "metadata": {},
   "outputs": [],
   "source": [
    "from simple_bert_lexical_simplifier import SimpleBertLexicalSimplifier\n",
    "bert_ls = SimpleBertLexicalSimplifier(model, tokenizer, bert_pattern, None, None)"
   ]
  },
  {
   "cell_type": "code",
   "execution_count": null,
   "metadata": {},
   "outputs": [],
   "source": [
    "from benchmark_suite import BenchmarkSuite\n",
    "from language import Language\n",
    "suite = BenchmarkSuite(bert_ls,\n",
    "                       {Language.EN: {'pattern': '{original_sentence}. The simpler version of the previous sentence is: {sentence_with_complex_word_masked}. Top ten results:', 'exemplars': None},\n",
    "                        Language.DE: {'pattern': '{original_sentence}. Die vereinfachte Version des vorigen Satzes ist: {sentence_with_complex_word_masked}. Die zehn besten Resultate:', 'exemplars': None},\n",
    "                        Language.ES: {'pattern': '{original_sentence}. La versión simplificada de la frase anterior es: {sentence_with_complex_word_masked}. Los diez primeros resultados:', 'exemplars': None},\n",
    "                        Language.PT: {'pattern': '{original_sentence}. A versão simplificada da frase anterior é: {sentence_with_complex_word_masked}. Os dez melhores resultados:', 'exemplars': None}})\n",
    "suite.run()\n"
   ]
  }
 ],
 "metadata": {
  "language_info": {
   "name": "python"
  }
 },
 "nbformat": 4,
 "nbformat_minor": 2
}
