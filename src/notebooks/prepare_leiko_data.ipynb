{
 "cells": [
  {
   "cell_type": "markdown",
   "metadata": {},
   "source": [
    "# Notebook to prepare LeiKo_1.5 Dataset into HF readable txt files"
   ]
  },
  {
   "cell_type": "code",
   "execution_count": 58,
   "metadata": {},
   "outputs": [
    {
     "data": {
      "text/plain": [
       "['2 Frauen getötet:',\n",
       " 'Hohe Strafen',\n",
       " 'In Nordrhein-Westfalen war ein Prozess.',\n",
       " 'Ein Prozess ist ein Streit vor Gericht.',\n",
       " 'Bei einem Prozess entscheidet das Gericht: • Hat ein Mensch etwas Verbotenes getan ? Dann bekommt dieser Mensch eine Strafe. • Oder hat ein Mensch nichts Verbotenes getan ? Dann bekommt dieser Mensch keine Strafe.',\n",
       " 'Der Prozess war in Paderborn.',\n",
       " 'Das Gericht in Paderborn hat 2 Menschen verurteilt.',\n",
       " '• Einen Mann.',\n",
       " '• Und eine Frau.',\n",
       " 'Diese 2 Menschen haben nämlich 2 Frauen getötet.',\n",
       " 'Diese 2 Frauen waren aus Niedersachsen.',\n",
       " 'Jetzt werden die 2 Menschen lange eingesperrt.',\n",
       " 'Was ist passiert ?',\n",
       " 'Der Mann und die Frau waren ein Ehe·paar.',\n",
       " 'Das Ehe·paar hat zusammen in einem Haus gewohnt.',\n",
       " 'Das Haus ist in Höxter.',\n",
       " 'Höxter ist eine Stadt in Nordrhein-Westfalen.',\n",
       " 'Das Ehe·paar hat mehrere Frauen in das Haus gelockt.',\n",
       " 'Das Ehe·paar hat den Frauen zum Beispiel gesagt: Wir wollen mit euch leben.',\n",
       " 'Kommt zu uns nach Höxter !',\n",
       " 'Die Frauen waren sehr einsam.',\n",
       " 'Deshalb sind die Frauen nach Höxter gefahren.',\n",
       " 'Dann hat das Ehe·paar die Frauen eingesperrt.',\n",
       " 'Und das Ehe·paar hat die Frauen misshandelt.',\n",
       " 'Das heißt: Das Ehe·paar hat die Frauen zum Beispiel gefesselt.',\n",
       " 'Und geschlagen.',\n",
       " 'Die Misshandlungen waren sehr schlimm.',\n",
       " 'Deshalb sind 2 von den Frauen gestorben.',\n",
       " 'Diese 2 Frauen waren aus Niedersachsen.',\n",
       " 'Das Gericht hat gesagt: Die Taten von dem Ehe·paar waren sehr schlimm.',\n",
       " 'Deshalb muss die Frau 13 Jahre lang ins Gefängnis.',\n",
       " 'Und der Mann muss 11 Jahre lang in eine Psychiatrie.',\n",
       " 'Eine Psychiatrie ist ein Kranken·haus für psychisch kranke Menschen.',\n",
       " 'Der Mann ist nämlich psychisch krank.']"
      ]
     },
     "execution_count": 58,
     "metadata": {},
     "output_type": "execute_result"
    }
   ],
   "source": [
    "path = \"/home/luis/RCI/multilingual-lexical-simplification/data/LeiKo_1.5/LeiKo_1.5_coref/LeiKo_1.5/ndr/2-Frauen-getoetet-Hohe-Strafen-,hoexter450.conll\"\n",
    "from io import open\n",
    "from conllu import parse_incr\n",
    "\n",
    "sentences = []\n",
    "data_file = open(path, \"r\", encoding=\"utf-8\")\n",
    "for tokenlist in parse_incr(data_file):\n",
    "    sentences.append(tokenlist)\n",
    "    # print(tokenlist)\n",
    "\n",
    "new_sentences = []\n",
    "for sentence in sentences:\n",
    "    string = \"\"\n",
    "    for word in sentence:\n",
    "        if word != sentence[0] and str(word) not in [\".\", \",\", \":\"]:\n",
    "            string += \" \" + str(word)\n",
    "        else:\n",
    "            string += str(word)\n",
    "    new_sentences.append(string)\n",
    "\n",
    "new_sentences"
   ]
  },
  {
   "cell_type": "code",
   "execution_count": 59,
   "metadata": {},
   "outputs": [],
   "source": [
    "with open('/home/luis/RCI/multilingual-lexical-simplification/data/LeiKo_extracted/001.txt', 'w') as f:\n",
    "    for line in new_sentences:\n",
    "        f.write(f\"{line}\\n\")"
   ]
  },
  {
   "cell_type": "code",
   "execution_count": 54,
   "metadata": {},
   "outputs": [],
   "source": [
    "def sentences_to_strlist(sentences):\n",
    "    new_sentences = []\n",
    "    for sentence in sentences:\n",
    "        string = \"\"\n",
    "        for word in sentence:\n",
    "            if word != sentence[0] and str(word) not in [\".\", \",\", \":\", \"?\", \"!\"]:\n",
    "                string += \" \" + str(word)\n",
    "            else:\n",
    "                string += str(word)\n",
    "        new_sentences.append(string)\n",
    "\n",
    "    return new_sentences"
   ]
  },
  {
   "cell_type": "code",
   "execution_count": 64,
   "metadata": {},
   "outputs": [
    {
     "name": "stdout",
     "output_type": "stream",
     "text": [
      "/home/luis/RCI/multilingual-lexical-simplification/data/LeiKo_1.5/LeiKo_1.5_coref/LeiKo_1.5/tazleicht/5597599.conll\n",
      "/home/luis/RCI/multilingual-lexical-simplification/data/LeiKo_1.5/LeiKo_1.5_coref/LeiKo_1.5/tazleicht/5488693.conll\n",
      "/home/luis/RCI/multilingual-lexical-simplification/data/LeiKo_1.5/LeiKo_1.5_coref/LeiKo_1.5/tazleicht/5532612.conll\n",
      "/home/luis/RCI/multilingual-lexical-simplification/data/LeiKo_1.5/LeiKo_1.5_coref/LeiKo_1.5/tazleicht/5547400.conll\n",
      "/home/luis/RCI/multilingual-lexical-simplification/data/LeiKo_1.5/LeiKo_1.5_coref/LeiKo_1.5/tazleicht/5488695.conll\n",
      "/home/luis/RCI/multilingual-lexical-simplification/data/LeiKo_1.5/LeiKo_1.5_coref/LeiKo_1.5/tazleicht/5495125.conll\n",
      "/home/luis/RCI/multilingual-lexical-simplification/data/LeiKo_1.5/LeiKo_1.5_coref/LeiKo_1.5/tazleicht/5532345.conll\n",
      "/home/luis/RCI/multilingual-lexical-simplification/data/LeiKo_1.5/LeiKo_1.5_coref/LeiKo_1.5/tazleicht/5507107.conll\n",
      "/home/luis/RCI/multilingual-lexical-simplification/data/LeiKo_1.5/LeiKo_1.5_coref/LeiKo_1.5/tazleicht/5485232.conll\n",
      "/home/luis/RCI/multilingual-lexical-simplification/data/LeiKo_1.5/LeiKo_1.5_coref/LeiKo_1.5/tazleicht/5515472.conll\n",
      "/home/luis/RCI/multilingual-lexical-simplification/data/LeiKo_1.5/LeiKo_1.5_coref/LeiKo_1.5/tazleicht/5486636.conll\n",
      "/home/luis/RCI/multilingual-lexical-simplification/data/LeiKo_1.5/LeiKo_1.5_coref/LeiKo_1.5/tazleicht/5521725.conll\n",
      "/home/luis/RCI/multilingual-lexical-simplification/data/LeiKo_1.5/LeiKo_1.5_coref/LeiKo_1.5/tazleicht/5499850.conll\n",
      "/home/luis/RCI/multilingual-lexical-simplification/data/LeiKo_1.5/LeiKo_1.5_coref/LeiKo_1.5/tazleicht/5522921.conll\n",
      "/home/luis/RCI/multilingual-lexical-simplification/data/LeiKo_1.5/LeiKo_1.5_coref/LeiKo_1.5/tazleicht/5535739.conll\n",
      "/home/luis/RCI/multilingual-lexical-simplification/data/LeiKo_1.5/LeiKo_1.5_coref/LeiKo_1.5/tazleicht/5621822.conll\n",
      "/home/luis/RCI/multilingual-lexical-simplification/data/LeiKo_1.5/LeiKo_1.5_coref/LeiKo_1.5/tazleicht/5516787.conll\n",
      "/home/luis/RCI/multilingual-lexical-simplification/data/LeiKo_1.5/LeiKo_1.5_coref/LeiKo_1.5/tazleicht/5539099.conll\n",
      "/home/luis/RCI/multilingual-lexical-simplification/data/LeiKo_1.5/LeiKo_1.5_coref/LeiKo_1.5/tazleicht/5495118.conll\n",
      "/home/luis/RCI/multilingual-lexical-simplification/data/LeiKo_1.5/LeiKo_1.5_coref/LeiKo_1.5/tazleicht/5519090.conll\n",
      "/home/luis/RCI/multilingual-lexical-simplification/data/LeiKo_1.5/LeiKo_1.5_coref/LeiKo_1.5/tazleicht/5590875.conll\n",
      "/home/luis/RCI/multilingual-lexical-simplification/data/LeiKo_1.5/LeiKo_1.5_coref/LeiKo_1.5/tazleicht/5549311.conll\n",
      "/home/luis/RCI/multilingual-lexical-simplification/data/LeiKo_1.5/LeiKo_1.5_coref/LeiKo_1.5/tazleicht/5481856.conll\n",
      "/home/luis/RCI/multilingual-lexical-simplification/data/LeiKo_1.5/LeiKo_1.5_coref/LeiKo_1.5/tazleicht/5498501.conll\n",
      "/home/luis/RCI/multilingual-lexical-simplification/data/LeiKo_1.5/LeiKo_1.5_coref/LeiKo_1.5/tazleicht/5592510.conll\n",
      "/home/luis/RCI/multilingual-lexical-simplification/data/LeiKo_1.5/LeiKo_1.5_coref/LeiKo_1.5/tazleicht/5501808.conll\n",
      "/home/luis/RCI/multilingual-lexical-simplification/data/LeiKo_1.5/LeiKo_1.5_coref/LeiKo_1.5/tazleicht/5537358.conll\n",
      "/home/luis/RCI/multilingual-lexical-simplification/data/LeiKo_1.5/LeiKo_1.5_coref/LeiKo_1.5/tazleicht/5514977.conll\n",
      "/home/luis/RCI/multilingual-lexical-simplification/data/LeiKo_1.5/LeiKo_1.5_coref/LeiKo_1.5/tazleicht/5504919.conll\n",
      "/home/luis/RCI/multilingual-lexical-simplification/data/LeiKo_1.5/LeiKo_1.5_coref/LeiKo_1.5/tazleicht/5516834.conll\n",
      "/home/luis/RCI/multilingual-lexical-simplification/data/LeiKo_1.5/LeiKo_1.5_coref/LeiKo_1.5/tazleicht/5564691.conll\n",
      "/home/luis/RCI/multilingual-lexical-simplification/data/LeiKo_1.5/LeiKo_1.5_coref/LeiKo_1.5/tazleicht/5526302.conll\n",
      "/home/luis/RCI/multilingual-lexical-simplification/data/LeiKo_1.5/LeiKo_1.5_coref/LeiKo_1.5/tazleicht/5522910.conll\n",
      "/home/luis/RCI/multilingual-lexical-simplification/data/LeiKo_1.5/LeiKo_1.5_coref/LeiKo_1.5/tazleicht/5501805.conll\n",
      "/home/luis/RCI/multilingual-lexical-simplification/data/LeiKo_1.5/LeiKo_1.5_coref/LeiKo_1.5/tazleicht/5500872.conll\n",
      "/home/luis/RCI/multilingual-lexical-simplification/data/LeiKo_1.5/LeiKo_1.5_coref/LeiKo_1.5/tazleicht/5527216.conll\n",
      "/home/luis/RCI/multilingual-lexical-simplification/data/LeiKo_1.5/LeiKo_1.5_coref/LeiKo_1.5/tazleicht/5508261.conll\n",
      "/home/luis/RCI/multilingual-lexical-simplification/data/LeiKo_1.5/LeiKo_1.5_coref/LeiKo_1.5/tazleicht/5513657.conll\n",
      "/home/luis/RCI/multilingual-lexical-simplification/data/LeiKo_1.5/LeiKo_1.5_coref/LeiKo_1.5/tazleicht/5481861.conll\n",
      "/home/luis/RCI/multilingual-lexical-simplification/data/LeiKo_1.5/LeiKo_1.5_coref/LeiKo_1.5/tazleicht/5521900.conll\n",
      "/home/luis/RCI/multilingual-lexical-simplification/data/LeiKo_1.5/LeiKo_1.5_coref/LeiKo_1.5/tazleicht/5508286.conll\n",
      "/home/luis/RCI/multilingual-lexical-simplification/data/LeiKo_1.5/LeiKo_1.5_coref/LeiKo_1.5/tazleicht/5527228.conll\n",
      "/home/luis/RCI/multilingual-lexical-simplification/data/LeiKo_1.5/LeiKo_1.5_coref/LeiKo_1.5/tazleicht/5492072.conll\n",
      "/home/luis/RCI/multilingual-lexical-simplification/data/LeiKo_1.5/LeiKo_1.5_coref/LeiKo_1.5/tazleicht/5504937.conll\n",
      "/home/luis/RCI/multilingual-lexical-simplification/data/LeiKo_1.5/LeiKo_1.5_coref/LeiKo_1.5/tazleicht/5617312.conll\n",
      "/home/luis/RCI/multilingual-lexical-simplification/data/LeiKo_1.5/LeiKo_1.5_coref/LeiKo_1.5/tazleicht/5492163.conll\n",
      "/home/luis/RCI/multilingual-lexical-simplification/data/LeiKo_1.5/LeiKo_1.5_coref/LeiKo_1.5/tazleicht/5478566.conll\n",
      "/home/luis/RCI/multilingual-lexical-simplification/data/LeiKo_1.5/LeiKo_1.5_coref/LeiKo_1.5/tazleicht/5513494.conll\n",
      "/home/luis/RCI/multilingual-lexical-simplification/data/LeiKo_1.5/LeiKo_1.5_coref/LeiKo_1.5/tazleicht/5526297.conll\n",
      "/home/luis/RCI/multilingual-lexical-simplification/data/LeiKo_1.5/LeiKo_1.5_coref/LeiKo_1.5/tazleicht/5585793.conll\n",
      "/home/luis/RCI/multilingual-lexical-simplification/data/LeiKo_1.5/LeiKo_1.5_coref/LeiKo_1.5/tazleicht/5515332.conll\n",
      "/home/luis/RCI/multilingual-lexical-simplification/data/LeiKo_1.5/LeiKo_1.5_coref/LeiKo_1.5/tazleicht/5535744.conll\n",
      "/home/luis/RCI/multilingual-lexical-simplification/data/LeiKo_1.5/LeiKo_1.5_coref/LeiKo_1.5/tazleicht/5521882.conll\n",
      "/home/luis/RCI/multilingual-lexical-simplification/data/LeiKo_1.5/LeiKo_1.5_coref/LeiKo_1.5/tazleicht/5514797.conll\n"
     ]
    }
   ],
   "source": [
    "import os\n",
    "\n",
    "dir_path = \"/home/luis/RCI/multilingual-lexical-simplification/data/LeiKo_1.5/LeiKo_1.5_coref/LeiKo_1.5/tazleicht\"\n",
    "\n",
    "for idx, filename in enumerate(os.listdir(dir_path)):\n",
    "    path = os.path.join(dir_path, filename)\n",
    "    print(path)\n",
    "\n",
    "    sentences = []\n",
    "    data_file = open(path, \"r\", encoding=\"utf-8\")\n",
    "    try:\n",
    "        for tokenlist in parse_incr(data_file):\n",
    "            sentences.append(tokenlist)\n",
    "\n",
    "        str_sentences = move_sentences_to_strlist(sentences)\n",
    "        with open(f'/home/luis/RCI/multilingual-lexical-simplification/data/LeiKo_extracted/tazleicht/{idx}.txt', 'w') as f:\n",
    "            for line in str_sentences:\n",
    "                f.write(f\"{line}\\n\")\n",
    "    except:\n",
    "        pass\n"
   ]
  },
  {
   "cell_type": "code",
   "execution_count": 67,
   "metadata": {},
   "outputs": [],
   "source": [
    "dir_path = \"/home/luis/RCI/multilingual-lexical-simplification/data/LeiKo_extracted\"\n",
    "goal_path = \"/home/luis/RCI/multilingual-lexical-simplification/data/LeiKo_extracted/leiko_extracted.txt\"\n",
    "\n",
    "for journal in os.listdir(dir_path):\n",
    "    journal_path = os.path.join(dir_path, journal)\n",
    "    if os.path.isdir(journal_path):\n",
    "        for filename in os.listdir(journal_path):\n",
    "            file_path = os.path.join(journal_path, filename)             \n",
    "            with open(file_path, 'r') as f:\n",
    "                content = f.read()\n",
    "            with open(goal_path, 'a') as f:\n",
    "                f.write(content)"
   ]
  },
  {
   "cell_type": "markdown",
   "metadata": {},
   "source": [
    "# Crawl all eval datasets for finetune pairs"
   ]
  },
  {
   "cell_type": "code",
   "execution_count": 1,
   "metadata": {},
   "outputs": [],
   "source": [
    "import sys\n",
    "sys.path.append('/home/luis/RCI/multilingual-lexical-simplification')"
   ]
  },
  {
   "cell_type": "code",
   "execution_count": 2,
   "metadata": {},
   "outputs": [],
   "source": [
    "from src.utils.porSimplesSent_data_provider import PorSimplesSentDataProvider"
   ]
  },
  {
   "cell_type": "code",
   "execution_count": 3,
   "metadata": {},
   "outputs": [],
   "source": [
    "provider = PorSimplesSentDataProvider()\n",
    "data = provider.provide_data_as_numpy_array()"
   ]
  },
  {
   "cell_type": "code",
   "execution_count": 4,
   "metadata": {},
   "outputs": [
    {
     "name": "stdout",
     "output_type": "stream",
     "text": [
      "dict_keys([7, 4, 2, 1])\n"
     ]
    },
    {
     "data": {
      "text/plain": [
       "(array(['ao prever a distribuição gratuita de uniforme para alunos da rede pública um projeto em discussão no congresso institui uma controvérsia em escolas prefeituras e secretarias de educação',\n",
       "        'controvérsia', None,\n",
       "        {7: ['polêmica'], 4: ['contradição'], 2: ['briga', 'disputa'], 1: ['debate', 'discussão', 'divergência', 'oposição', 'discórdia', 'desavença', 'questão', 'contestação', 'indagação', 'divergência de opiniões']}],\n",
       "       dtype=object),\n",
       " 'ao prever a distribuição gratuita de uniforme para alunos da rede pública um projeto em discussão no congresso institui uma controvérsia em escolas prefeituras e secretarias de educação',\n",
       " 'controvérsia',\n",
       " 'debate',\n",
       " 'ao prever a distribuição gratuita de uniforme para alunos da rede pública um projeto em discussão no congresso institui uma debate em escolas prefeituras e secretarias de educação')"
      ]
     },
     "execution_count": 4,
     "metadata": {},
     "output_type": "execute_result"
    }
   ],
   "source": [
    "example = data[0]\n",
    "sentence = example[0]\n",
    "complex_word = example[1]\n",
    "substitution = example[3]\n",
    "print(substitution.keys())\n",
    "gold_standart = substitution[1][0]\n",
    "simplified_sentence = sentence.replace(complex_word, gold_standart)\n",
    "example, sentence, complex_word, gold_standart, simplified_sentence"
   ]
  },
  {
   "cell_type": "code",
   "execution_count": 5,
   "metadata": {},
   "outputs": [
    {
     "data": {
      "text/plain": [
       "374"
      ]
     },
     "execution_count": 5,
     "metadata": {},
     "output_type": "execute_result"
    }
   ],
   "source": [
    "simplified_sentences = []\n",
    "for example in data:\n",
    "    try:\n",
    "        sentence = example[0]\n",
    "        complex_word = example[1]\n",
    "        substitution = example[3]\n",
    "        if 1 in substitution.keys():\n",
    "            gold_standart = substitution[1][0]\n",
    "        elif 2 in substitution.keys():\n",
    "            gold_standart = substitution[2][0]\n",
    "        simplified_sentence = sentence.replace(complex_word, gold_standart)\n",
    "        simplified_sentences.append(simplified_sentence)\n",
    "    except:\n",
    "        pass\n",
    "\n",
    "len(simplified_sentences)"
   ]
  },
  {
   "cell_type": "code",
   "execution_count": 6,
   "metadata": {},
   "outputs": [],
   "source": [
    "goal_path = \"/home/luis/RCI/multilingual-lexical-simplification/data/PorSimplesSent/\" + \"porsimplessent_extracted.txt\"\n",
    "with open(goal_path, 'w') as f:\n",
    "    for sentence in simplified_sentences:\n",
    "        f.write(f\"{sentence}\\n\")\n"
   ]
  },
  {
   "cell_type": "markdown",
   "metadata": {},
   "source": [
    "# Create Leave-one-out cross validation datasets"
   ]
  },
  {
   "cell_type": "code",
   "execution_count": 9,
   "metadata": {},
   "outputs": [],
   "source": [
    "data_path_en = '/home/luis/RCI/multilingual-lexical-simplification/data/BenchLS/benchls_extracted.txt'\n",
    "data_path_de = '/home/luis/RCI/multilingual-lexical-simplification/data/LeiKo_extracted/leiko_extracted.txt'\n",
    "data_path_pt = '/home/luis/RCI/multilingual-lexical-simplification/data/PorSimplesSent/porsimplessent_extracted.txt'\n",
    "data_path_es = '/home/luis/RCI/multilingual-lexical-simplification/data/alexsis/alexsis_extracted.txt'\n",
    "\n",
    "goal_path = '/home/luis/RCI/multilingual-lexical-simplification/data/loocv_finetune_datasets/'"
   ]
  },
  {
   "cell_type": "code",
   "execution_count": 13,
   "metadata": {},
   "outputs": [],
   "source": [
    "filenames = [data_path_de, data_path_pt, data_path_es]\n",
    "with open(goal_path+'de_pt_es_data.txt', 'w') as outfile:\n",
    "    for fname in filenames:\n",
    "        with open(fname) as infile:\n",
    "            for line in infile:\n",
    "                outfile.write(line)"
   ]
  }
 ],
 "metadata": {
  "kernelspec": {
   "display_name": "nlp24",
   "language": "python",
   "name": "python3"
  },
  "language_info": {
   "codemirror_mode": {
    "name": "ipython",
    "version": 3
   },
   "file_extension": ".py",
   "mimetype": "text/x-python",
   "name": "python",
   "nbconvert_exporter": "python",
   "pygments_lexer": "ipython3",
   "version": "3.11.9"
  }
 },
 "nbformat": 4,
 "nbformat_minor": 2
}
