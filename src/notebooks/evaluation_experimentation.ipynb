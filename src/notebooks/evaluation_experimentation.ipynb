{
 "cells": [
  {
   "metadata": {},
   "cell_type": "code",
   "outputs": [],
   "execution_count": null,
   "source": [
    "from google.colab import drive\n",
    "drive.mount('/content/drive', force_remount=True)\n",
    "import sys\n",
    "\n",
    "\n",
    "sys.path.append('/content/drive/MyDrive/nlp_ss24/multilingual-lexical-simplification')\n",
    "sys.path.append('/content/drive/MyDrive/nlp_ss24/multilingual-lexical-simplification/src')\n",
    "\n",
    "from llm_lexical_simplifier import LLMLexicalSimplifier\n",
    "import torch\n",
    "from transformers import AutoModelForCausalLM, AutoTokenizer, pipeline\n",
    "from tqdm import tqdm"
   ]
  },
  {
   "cell_type": "markdown",
   "source": [
    "# LLM based"
   ],
   "metadata": {
    "id": "0FBorNunEHuW"
   }
  },
  {
   "metadata": {},
   "cell_type": "markdown",
   "source": "Install this and the restart the session. This is a workaround for a known bug in flash-attn. Do not re-run this cell after restarting the session."
  },
  {
   "cell_type": "code",
   "source": "#!pip install accelerate flash-attn",
   "metadata": {
    "id": "hpjpEBgOLnpS"
   },
   "execution_count": null,
   "outputs": []
  },
  {
   "cell_type": "code",
   "source": [
    "torch.random.manual_seed(0)\n",
    "\n",
    "model = AutoModelForCausalLM.from_pretrained(\n",
    "    \"microsoft/Phi-3-mini-4k-instruct\",\n",
    "    #device_map=\"cuda\",\n",
    "    torch_dtype=\"auto\",\n",
    "    trust_remote_code=True,\n",
    "    # Flash attention is only supported starting Ampere architecture\n",
    "    # So we cant use it on free-tier GPUs\n",
    ")\n",
    "tokenizer = AutoTokenizer.from_pretrained(\"microsoft/Phi-3-mini-4k-instruct\")"
   ],
   "metadata": {
    "colab": {
     "base_uri": "https://localhost:8080/",
     "height": 193,
     "referenced_widgets": [
      "70a0ace4e6fe423e9d969221440bc84f",
      "3c877d130c544488a3b0818c868b1827",
      "9527c2ba1ece4e618d84abed41f72885",
      "edc4f475a57a42a9b710acccd634c3f3",
      "3dda3a30e81b4173b31d4a7d02638c5d",
      "c2ba150e52e04aa8bec0326b8ed5dab1",
      "093e521581724480a3f469ca79fe2c38",
      "68cc5d97ee3f403ebf9892e95512bb3f",
      "f3ccbd271fe34779be002d108a406186",
      "c871893453eb42d0bb636885393582de",
      "fe579dc8b04a46e3a15de8f73d6ad69a"
     ]
    },
    "id": "XNtI-9V9EJZA",
    "executionInfo": {
     "status": "ok",
     "timestamp": 1717575463010,
     "user_tz": -120,
     "elapsed": 37324,
     "user": {
      "displayName": "Tobias Lindenbauer",
      "userId": "10361173233973415805"
     }
    },
    "outputId": "f0e7f0b0-186a-46bc-ddcc-3bbab43ca6fa"
   },
   "execution_count": 4,
   "outputs": [
    {
     "output_type": "stream",
     "name": "stderr",
     "text": [
      "/usr/local/lib/python3.10/dist-packages/huggingface_hub/utils/_token.py:89: UserWarning: \n",
      "The secret `HF_TOKEN` does not exist in your Colab secrets.\n",
      "To authenticate with the Hugging Face Hub, create a token in your settings tab (https://huggingface.co/settings/tokens), set it as secret in your Google Colab and restart your session.\n",
      "You will be able to reuse this secret in all of your notebooks.\n",
      "Please note that authentication is recommended but still optional to access public models or datasets.\n",
      "  warnings.warn(\n"
     ]
    },
    {
     "output_type": "display_data",
     "data": {
      "text/plain": [
       "Loading checkpoint shards:   0%|          | 0/2 [00:00<?, ?it/s]"
      ],
      "application/vnd.jupyter.widget-view+json": {
       "version_major": 2,
       "version_minor": 0,
       "model_id": "70a0ace4e6fe423e9d969221440bc84f"
      }
     },
     "metadata": {}
    },
    {
     "output_type": "stream",
     "name": "stderr",
     "text": [
      "Special tokens have been added in the vocabulary, make sure the associated word embeddings are fine-tuned or trained.\n"
     ]
    }
   ]
  },
  {
   "metadata": {},
   "cell_type": "code",
   "outputs": [],
   "execution_count": null,
   "source": [
    "generation_args = {\n",
    "    \"max_new_tokens\": 100,\n",
    "    \"return_full_text\": False,\n",
    "    \"do_sample\": False,\n",
    "}\n",
    "\n",
    "# Define PAD Token = EOS Token\n",
    "tokenizer.padding_side = \"left\"\n",
    "# Define PAD Token = EOS Token\n",
    "tokenizer.pad_token = tokenizer.eos_token\n",
    "model.config.pad_token_id = model.config.eos_token_id"
   ]
  },
  {
   "cell_type": "code",
   "source": [
    "messages = [\n",
    "    {\"role\": \"user\", \"content\": \"Der Maschinenbau hat in Europa durch die Bildung der EU eine starke Erleichterung erhalten. Die vereinfachte Version des vorigen Satzes ist: Der Maschinenbau hat in Europa durch die Bildung der EU eine starke [MASK] erhalten. Results as ordered, AST parsable Python list:\"},\n",
    "    {\"role\": \"assistant\", \"content\": '[\"Vereinfachung\", \"Entspannung\", \"Begünstigung\", \"Unterstützung\", \"Rückenwind,  \"Förderung\", \"Rückhalt\", \"Aufwind\", \"Antrieb\", \"Erleichterung\"]'},\n",
    "    {\"role\": \"user\", \"content\": \"Die EU-Renaturierungsverordnung galt eigentlich bereits als durchgebracht; das EU-Parlament hatte zugestimmt und die Staaten ihren grundsätzlichen Sanktus signalisiert. Die vereinfachte Version des vorigen Satzes ist: Die EU-Renaturierungsverordnung galt eigentlich bereits als durchgebracht; das EU-Parlament hatte zugestimmt und die Staaten ihren grundsätzlichen [MASK] signalisiert. Ten results as ordered, AST parsable Python list:\"},\n",
    "    {\"role\": \"assistant\", \"content\": '[\"Zustimmung\", \"Einverständnis\", \"Okay\", \"Segen\", \"Billigung, Bestätigung, Bejahung, Zuspruch, Akzeptanz, Befürwortung\"]'},\n",
    "]\n",
    "\n",
    "llm_ls = LLMLexicalSimplifier(model=model, tokenizer=tokenizer,\n",
    "                              pattern='{original_sentence}. Die vereinfachte Version des vorigen Satzes ist: {sentence_with_complex_word_masked}. Ten results as ordered, AST parsable Python list:',\n",
    "                              exemplars=messages, mask_token='[MASK]', generation_args=generation_args)"
   ],
   "metadata": {
    "colab": {
     "base_uri": "https://localhost:8080/"
    },
    "id": "EUOiYbphOx9k",
    "executionInfo": {
     "status": "ok",
     "timestamp": 1717575625849,
     "user_tz": -120,
     "elapsed": 2381,
     "user": {
      "displayName": "Tobias Lindenbauer",
      "userId": "10361173233973415805"
     }
    },
    "outputId": "66c8f438-0fdc-47dd-e693-2bbdd22a0d1f"
   },
   "execution_count": 9,
   "outputs": [
    {
     "output_type": "stream",
     "name": "stdout",
     "text": [
      "Using cuda for model inference.\n",
      "Using mask token: \"[MASK]\".\n"
     ]
    }
   ]
  },
  {
   "cell_type": "code",
   "source": [
    "llm_output = llm_ls.generate_substitutions_for([['Die politische Lage in Syrien ist heikel.','heikel']])\n",
    "llm_output"
   ],
   "metadata": {
    "colab": {
     "base_uri": "https://localhost:8080/"
    },
    "id": "P7jMPpDvPuLK",
    "executionInfo": {
     "status": "ok",
     "timestamp": 1717575625850,
     "user_tz": -120,
     "elapsed": 5,
     "user": {
      "displayName": "Tobias Lindenbauer",
      "userId": "10361173233973415805"
     }
    },
    "outputId": "0eac01a4-c4f1-49ae-ee87-bf2a7fb559d4"
   },
   "execution_count": 10,
   "outputs": [
    {
     "output_type": "execute_result",
     "data": {
      "text/plain": [
       "['kompliziert', 'instabil', 'bedrohlich', 'kränkend', 'verschlechtert']"
      ]
     },
     "metadata": {},
     "execution_count": 10
    }
   ]
  },
  {
   "cell_type": "code",
   "source": [
    "from benchmark_suite import BenchmarkSuite\n",
    "from language import Language\n",
    "suite = BenchmarkSuite(llm_ls, {\n",
    "        Language.DE: {'pattern': '{original_sentence}. Die vereinfachte Version des vorigen Satzes ist: '\n",
    "                                 '{sentence_with_complex_word_masked}. Ten results as ordered, AST parsable '\n",
    "                                 'Python list:',\n",
    "                      'exemplars': messages}})\n",
    "suite.run()"
   ],
   "metadata": {
    "colab": {
     "base_uri": "https://localhost:8080/"
    },
    "id": "1KNZxflUTKi8",
    "outputId": "ad0e862f-c510-4af1-98e2-dc9f8306badf"
   },
   "execution_count": null,
   "outputs": [
    {
     "output_type": "stream",
     "name": "stdout",
     "text": [
      "Benchmarking model on DE ...\n",
      "Benchmarking model on GermanEvalDataProvider...\n"
     ]
    },
    {
     "output_type": "stream",
     "name": "stderr",
     "text": [
      "\rBenchmarking:   0%|          | 0/1040 [00:00<?, ?it/s]/usr/local/lib/python3.10/dist-packages/transformers/generation/configuration_utils.py:515: UserWarning: `do_sample` is set to `False`. However, `temperature` is set to `0.0` -- this flag is only used in sample-based generation modes. You should set `do_sample=True` or unset `temperature`.\n",
      "  warnings.warn(\n",
      "Benchmarking:   0%|          | 3/1040 [00:12<1:28:27,  5.12s/it]"
     ]
    },
    {
     "output_type": "stream",
     "name": "stdout",
     "text": [
      "Failed to parse the output from the LLM: The provided string is not a valid list representation:  In der Legislaturperiode 1998–2002 wurden unter anderem die Ökosteuer (allerdings in einer gegenüber grünen Vorstellungen reduzierten Form), einige Reformen des Staatsbürgerschaftsrechts bezüglich der [Erleichterung] von Einwanderung, die Möglichkeit eingetragener Lebenspartnerschaften und der langfristige Ausstieg aus der Atomenergie verabschiedet.Returning empty list.\n"
     ]
    },
    {
     "output_type": "stream",
     "name": "stderr",
     "text": [
      "\rBenchmarking:   0%|          | 4/1040 [00:15<1:14:05,  4.29s/it]"
     ]
    },
    {
     "output_type": "stream",
     "name": "stdout",
     "text": [
      "Failed to parse the output from the LLM: The provided string is not a valid list representation:  AtmosphäreReturning empty list.\n"
     ]
    },
    {
     "output_type": "stream",
     "name": "stderr",
     "text": [
      "\rBenchmarking:   0%|          | 5/1040 [00:19<1:08:10,  3.95s/it]"
     ]
    },
    {
     "output_type": "stream",
     "name": "stdout",
     "text": [
      "Failed to parse the output from the LLM: The provided string is not a valid list representation: Returning empty list.\n"
     ]
    }
   ]
  },
  {
   "cell_type": "markdown",
   "source": [
    "#BERT based"
   ],
   "metadata": {
    "id": "dh_JhhgjEGLl"
   }
  },
  {
   "cell_type": "code",
   "execution_count": null,
   "metadata": {
    "colab": {
     "base_uri": "https://localhost:8080/"
    },
    "executionInfo": {
     "elapsed": 2557,
     "status": "ok",
     "timestamp": 1717253600354,
     "user": {
      "displayName": "Luis Wiedmann",
      "userId": "10160208935737893738"
     },
     "user_tz": -120
    },
    "id": "xuhHS5bjKWBo",
    "outputId": "398234a4-caaf-4967-9db1-fb69061965d9"
   },
   "source": [
    "from simple_bert_lexical_simplifier import SimpleBertLexicalSimplifier\n",
    "bert_ls = SimpleBertLexicalSimplifier(model, tokenizer, bert_pattern, None)"
   ],
   "outputs": [
    {
     "output_type": "stream",
     "name": "stdout",
     "text": [
      "Using cuda for model inference.\n",
      "No exemplars provided, using zero-shot mode.\n"
     ]
    }
   ]
  },
  {
   "cell_type": "code",
   "source": [
    "from benchmark_suite import BenchmarkSuite\n",
    "from language import Language\n",
    "suite = BenchmarkSuite(bert_ls, {Language.EN: '{original_sentence} The simpler version of the previous sentence is: {sentence_with_complex_word_masked}',\n",
    "                                 Language.DE: '{original_sentence} Die vereinfachte Version des vorigen Satzes ist: {sentence_with_complex_word_masked}'})\n",
    "suite.run()"
   ],
   "metadata": {
    "colab": {
     "base_uri": "https://localhost:8080/",
     "height": 293
    },
    "id": "em_Wxy2fGYOq",
    "executionInfo": {
     "status": "error",
     "timestamp": 1717572509942,
     "user_tz": -120,
     "elapsed": 3672,
     "user": {
      "displayName": "Tobias Lindenbauer",
      "userId": "10361173233973415805"
     }
    },
    "outputId": "b9dfe236-6aae-4215-a76d-b55942f73fe6"
   },
   "execution_count": null,
   "outputs": [
    {
     "output_type": "error",
     "ename": "KeyboardInterrupt",
     "evalue": "",
     "traceback": [
      "\u001B[0;31m---------------------------------------------------------------------------\u001B[0m",
      "\u001B[0;31mKeyboardInterrupt\u001B[0m                         Traceback (most recent call last)",
      "\u001B[0;32m<ipython-input-40-c810c9c2c7a8>\u001B[0m in \u001B[0;36m<cell line: 1>\u001B[0;34m()\u001B[0m\n\u001B[0;32m----> 1\u001B[0;31m \u001B[0;32mfrom\u001B[0m \u001B[0mbenchmark_suite\u001B[0m \u001B[0;32mimport\u001B[0m \u001B[0mBenchmarkSuite\u001B[0m\u001B[0;34m\u001B[0m\u001B[0;34m\u001B[0m\u001B[0m\n\u001B[0m\u001B[1;32m      2\u001B[0m \u001B[0;32mfrom\u001B[0m \u001B[0mlanguage\u001B[0m \u001B[0;32mimport\u001B[0m \u001B[0mLanguage\u001B[0m\u001B[0;34m\u001B[0m\u001B[0;34m\u001B[0m\u001B[0m\n\u001B[1;32m      3\u001B[0m suite = BenchmarkSuite(bert_ls, {Language.EN: '{original_sentence} The simpler version of the previous sentence is: {sentence_with_complex_word_masked}',\n\u001B[1;32m      4\u001B[0m                                  Language.DE: '{original_sentence} Die vereinfachte Version des vorigen Satzes ist: {sentence_with_complex_word_masked}'})\n\u001B[1;32m      5\u001B[0m \u001B[0msuite\u001B[0m\u001B[0;34m.\u001B[0m\u001B[0mrun\u001B[0m\u001B[0;34m(\u001B[0m\u001B[0;34m)\u001B[0m\u001B[0;34m\u001B[0m\u001B[0;34m\u001B[0m\u001B[0m\n",
      "\u001B[0;32m/content/drive/MyDrive/nlp_ss24/multilingual-lexical-simplification/src/benchmark_suite.py\u001B[0m in \u001B[0;36m<module>\u001B[0;34m\u001B[0m\n\u001B[1;32m     10\u001B[0m \u001B[0;32mfrom\u001B[0m \u001B[0mutils\u001B[0m\u001B[0;34m.\u001B[0m\u001B[0mbench_ls_data_provider\u001B[0m \u001B[0;32mimport\u001B[0m \u001B[0mBenchLSDataProvider\u001B[0m\u001B[0;34m\u001B[0m\u001B[0;34m\u001B[0m\u001B[0m\n\u001B[1;32m     11\u001B[0m \u001B[0;32mfrom\u001B[0m \u001B[0mutils\u001B[0m\u001B[0;34m.\u001B[0m\u001B[0mdata_provider\u001B[0m \u001B[0;32mimport\u001B[0m \u001B[0mDataProvider\u001B[0m\u001B[0;34m\u001B[0m\u001B[0;34m\u001B[0m\u001B[0m\n\u001B[0;32m---> 12\u001B[0;31m \u001B[0;32mfrom\u001B[0m \u001B[0mutils\u001B[0m\u001B[0;34m.\u001B[0m\u001B[0mgermaneval_data_provider\u001B[0m \u001B[0;32mimport\u001B[0m \u001B[0mGermanEvalDataProvider\u001B[0m\u001B[0;34m\u001B[0m\u001B[0;34m\u001B[0m\u001B[0m\n\u001B[0m\u001B[1;32m     13\u001B[0m \u001B[0;32mfrom\u001B[0m \u001B[0mutils\u001B[0m\u001B[0;34m.\u001B[0m\u001B[0mlexmturk_data_provider\u001B[0m \u001B[0;32mimport\u001B[0m \u001B[0mLexMTurkDataProvider\u001B[0m\u001B[0;34m\u001B[0m\u001B[0;34m\u001B[0m\u001B[0m\n\u001B[1;32m     14\u001B[0m \u001B[0;32mfrom\u001B[0m \u001B[0mutils\u001B[0m\u001B[0;34m.\u001B[0m\u001B[0mnnseval_data_provider\u001B[0m \u001B[0;32mimport\u001B[0m \u001B[0mNNSevalDataProvider\u001B[0m\u001B[0;34m\u001B[0m\u001B[0;34m\u001B[0m\u001B[0m\n",
      "\u001B[0;32m/usr/lib/python3.10/importlib/_bootstrap.py\u001B[0m in \u001B[0;36m_find_and_load\u001B[0;34m(name, import_)\u001B[0m\n",
      "\u001B[0;32m/usr/lib/python3.10/importlib/_bootstrap.py\u001B[0m in \u001B[0;36m_find_and_load_unlocked\u001B[0;34m(name, import_)\u001B[0m\n",
      "\u001B[0;32m/usr/lib/python3.10/importlib/_bootstrap.py\u001B[0m in \u001B[0;36m_load_unlocked\u001B[0;34m(spec)\u001B[0m\n",
      "\u001B[0;32m/usr/lib/python3.10/importlib/_bootstrap_external.py\u001B[0m in \u001B[0;36mexec_module\u001B[0;34m(self, module)\u001B[0m\n",
      "\u001B[0;32m/usr/lib/python3.10/importlib/_bootstrap_external.py\u001B[0m in \u001B[0;36mget_code\u001B[0;34m(self, fullname)\u001B[0m\n",
      "\u001B[0;32m/usr/lib/python3.10/importlib/_bootstrap_external.py\u001B[0m in \u001B[0;36mget_data\u001B[0;34m(self, path)\u001B[0m\n",
      "\u001B[0;31mKeyboardInterrupt\u001B[0m: "
     ]
    }
   ]
  }
 ],
 "metadata": {
  "colab": {
   "provenance": [],
   "gpuType": "T4"
  },
  "kernelspec": {
   "display_name": "Python 3",
   "name": "python3"
  },
  "language_info": {
   "name": "python",
   "version": "3.12.3"
  },
  "widgets": {
   "application/vnd.jupyter.widget-state+json": {
    "70a0ace4e6fe423e9d969221440bc84f": {
     "model_module": "@jupyter-widgets/controls",
     "model_name": "HBoxModel",
     "model_module_version": "1.5.0",
     "state": {
      "_dom_classes": [],
      "_model_module": "@jupyter-widgets/controls",
      "_model_module_version": "1.5.0",
      "_model_name": "HBoxModel",
      "_view_count": null,
      "_view_module": "@jupyter-widgets/controls",
      "_view_module_version": "1.5.0",
      "_view_name": "HBoxView",
      "box_style": "",
      "children": [
       "IPY_MODEL_3c877d130c544488a3b0818c868b1827",
       "IPY_MODEL_9527c2ba1ece4e618d84abed41f72885",
       "IPY_MODEL_edc4f475a57a42a9b710acccd634c3f3"
      ],
      "layout": "IPY_MODEL_3dda3a30e81b4173b31d4a7d02638c5d"
     }
    },
    "3c877d130c544488a3b0818c868b1827": {
     "model_module": "@jupyter-widgets/controls",
     "model_name": "HTMLModel",
     "model_module_version": "1.5.0",
     "state": {
      "_dom_classes": [],
      "_model_module": "@jupyter-widgets/controls",
      "_model_module_version": "1.5.0",
      "_model_name": "HTMLModel",
      "_view_count": null,
      "_view_module": "@jupyter-widgets/controls",
      "_view_module_version": "1.5.0",
      "_view_name": "HTMLView",
      "description": "",
      "description_tooltip": null,
      "layout": "IPY_MODEL_c2ba150e52e04aa8bec0326b8ed5dab1",
      "placeholder": "​",
      "style": "IPY_MODEL_093e521581724480a3f469ca79fe2c38",
      "value": "Loading checkpoint shards: 100%"
     }
    },
    "9527c2ba1ece4e618d84abed41f72885": {
     "model_module": "@jupyter-widgets/controls",
     "model_name": "FloatProgressModel",
     "model_module_version": "1.5.0",
     "state": {
      "_dom_classes": [],
      "_model_module": "@jupyter-widgets/controls",
      "_model_module_version": "1.5.0",
      "_model_name": "FloatProgressModel",
      "_view_count": null,
      "_view_module": "@jupyter-widgets/controls",
      "_view_module_version": "1.5.0",
      "_view_name": "ProgressView",
      "bar_style": "success",
      "description": "",
      "description_tooltip": null,
      "layout": "IPY_MODEL_68cc5d97ee3f403ebf9892e95512bb3f",
      "max": 2,
      "min": 0,
      "orientation": "horizontal",
      "style": "IPY_MODEL_f3ccbd271fe34779be002d108a406186",
      "value": 2
     }
    },
    "edc4f475a57a42a9b710acccd634c3f3": {
     "model_module": "@jupyter-widgets/controls",
     "model_name": "HTMLModel",
     "model_module_version": "1.5.0",
     "state": {
      "_dom_classes": [],
      "_model_module": "@jupyter-widgets/controls",
      "_model_module_version": "1.5.0",
      "_model_name": "HTMLModel",
      "_view_count": null,
      "_view_module": "@jupyter-widgets/controls",
      "_view_module_version": "1.5.0",
      "_view_name": "HTMLView",
      "description": "",
      "description_tooltip": null,
      "layout": "IPY_MODEL_c871893453eb42d0bb636885393582de",
      "placeholder": "​",
      "style": "IPY_MODEL_fe579dc8b04a46e3a15de8f73d6ad69a",
      "value": " 2/2 [00:25&lt;00:00, 11.46s/it]"
     }
    },
    "3dda3a30e81b4173b31d4a7d02638c5d": {
     "model_module": "@jupyter-widgets/base",
     "model_name": "LayoutModel",
     "model_module_version": "1.2.0",
     "state": {
      "_model_module": "@jupyter-widgets/base",
      "_model_module_version": "1.2.0",
      "_model_name": "LayoutModel",
      "_view_count": null,
      "_view_module": "@jupyter-widgets/base",
      "_view_module_version": "1.2.0",
      "_view_name": "LayoutView",
      "align_content": null,
      "align_items": null,
      "align_self": null,
      "border": null,
      "bottom": null,
      "display": null,
      "flex": null,
      "flex_flow": null,
      "grid_area": null,
      "grid_auto_columns": null,
      "grid_auto_flow": null,
      "grid_auto_rows": null,
      "grid_column": null,
      "grid_gap": null,
      "grid_row": null,
      "grid_template_areas": null,
      "grid_template_columns": null,
      "grid_template_rows": null,
      "height": null,
      "justify_content": null,
      "justify_items": null,
      "left": null,
      "margin": null,
      "max_height": null,
      "max_width": null,
      "min_height": null,
      "min_width": null,
      "object_fit": null,
      "object_position": null,
      "order": null,
      "overflow": null,
      "overflow_x": null,
      "overflow_y": null,
      "padding": null,
      "right": null,
      "top": null,
      "visibility": null,
      "width": null
     }
    },
    "c2ba150e52e04aa8bec0326b8ed5dab1": {
     "model_module": "@jupyter-widgets/base",
     "model_name": "LayoutModel",
     "model_module_version": "1.2.0",
     "state": {
      "_model_module": "@jupyter-widgets/base",
      "_model_module_version": "1.2.0",
      "_model_name": "LayoutModel",
      "_view_count": null,
      "_view_module": "@jupyter-widgets/base",
      "_view_module_version": "1.2.0",
      "_view_name": "LayoutView",
      "align_content": null,
      "align_items": null,
      "align_self": null,
      "border": null,
      "bottom": null,
      "display": null,
      "flex": null,
      "flex_flow": null,
      "grid_area": null,
      "grid_auto_columns": null,
      "grid_auto_flow": null,
      "grid_auto_rows": null,
      "grid_column": null,
      "grid_gap": null,
      "grid_row": null,
      "grid_template_areas": null,
      "grid_template_columns": null,
      "grid_template_rows": null,
      "height": null,
      "justify_content": null,
      "justify_items": null,
      "left": null,
      "margin": null,
      "max_height": null,
      "max_width": null,
      "min_height": null,
      "min_width": null,
      "object_fit": null,
      "object_position": null,
      "order": null,
      "overflow": null,
      "overflow_x": null,
      "overflow_y": null,
      "padding": null,
      "right": null,
      "top": null,
      "visibility": null,
      "width": null
     }
    },
    "093e521581724480a3f469ca79fe2c38": {
     "model_module": "@jupyter-widgets/controls",
     "model_name": "DescriptionStyleModel",
     "model_module_version": "1.5.0",
     "state": {
      "_model_module": "@jupyter-widgets/controls",
      "_model_module_version": "1.5.0",
      "_model_name": "DescriptionStyleModel",
      "_view_count": null,
      "_view_module": "@jupyter-widgets/base",
      "_view_module_version": "1.2.0",
      "_view_name": "StyleView",
      "description_width": ""
     }
    },
    "68cc5d97ee3f403ebf9892e95512bb3f": {
     "model_module": "@jupyter-widgets/base",
     "model_name": "LayoutModel",
     "model_module_version": "1.2.0",
     "state": {
      "_model_module": "@jupyter-widgets/base",
      "_model_module_version": "1.2.0",
      "_model_name": "LayoutModel",
      "_view_count": null,
      "_view_module": "@jupyter-widgets/base",
      "_view_module_version": "1.2.0",
      "_view_name": "LayoutView",
      "align_content": null,
      "align_items": null,
      "align_self": null,
      "border": null,
      "bottom": null,
      "display": null,
      "flex": null,
      "flex_flow": null,
      "grid_area": null,
      "grid_auto_columns": null,
      "grid_auto_flow": null,
      "grid_auto_rows": null,
      "grid_column": null,
      "grid_gap": null,
      "grid_row": null,
      "grid_template_areas": null,
      "grid_template_columns": null,
      "grid_template_rows": null,
      "height": null,
      "justify_content": null,
      "justify_items": null,
      "left": null,
      "margin": null,
      "max_height": null,
      "max_width": null,
      "min_height": null,
      "min_width": null,
      "object_fit": null,
      "object_position": null,
      "order": null,
      "overflow": null,
      "overflow_x": null,
      "overflow_y": null,
      "padding": null,
      "right": null,
      "top": null,
      "visibility": null,
      "width": null
     }
    },
    "f3ccbd271fe34779be002d108a406186": {
     "model_module": "@jupyter-widgets/controls",
     "model_name": "ProgressStyleModel",
     "model_module_version": "1.5.0",
     "state": {
      "_model_module": "@jupyter-widgets/controls",
      "_model_module_version": "1.5.0",
      "_model_name": "ProgressStyleModel",
      "_view_count": null,
      "_view_module": "@jupyter-widgets/base",
      "_view_module_version": "1.2.0",
      "_view_name": "StyleView",
      "bar_color": null,
      "description_width": ""
     }
    },
    "c871893453eb42d0bb636885393582de": {
     "model_module": "@jupyter-widgets/base",
     "model_name": "LayoutModel",
     "model_module_version": "1.2.0",
     "state": {
      "_model_module": "@jupyter-widgets/base",
      "_model_module_version": "1.2.0",
      "_model_name": "LayoutModel",
      "_view_count": null,
      "_view_module": "@jupyter-widgets/base",
      "_view_module_version": "1.2.0",
      "_view_name": "LayoutView",
      "align_content": null,
      "align_items": null,
      "align_self": null,
      "border": null,
      "bottom": null,
      "display": null,
      "flex": null,
      "flex_flow": null,
      "grid_area": null,
      "grid_auto_columns": null,
      "grid_auto_flow": null,
      "grid_auto_rows": null,
      "grid_column": null,
      "grid_gap": null,
      "grid_row": null,
      "grid_template_areas": null,
      "grid_template_columns": null,
      "grid_template_rows": null,
      "height": null,
      "justify_content": null,
      "justify_items": null,
      "left": null,
      "margin": null,
      "max_height": null,
      "max_width": null,
      "min_height": null,
      "min_width": null,
      "object_fit": null,
      "object_position": null,
      "order": null,
      "overflow": null,
      "overflow_x": null,
      "overflow_y": null,
      "padding": null,
      "right": null,
      "top": null,
      "visibility": null,
      "width": null
     }
    },
    "fe579dc8b04a46e3a15de8f73d6ad69a": {
     "model_module": "@jupyter-widgets/controls",
     "model_name": "DescriptionStyleModel",
     "model_module_version": "1.5.0",
     "state": {
      "_model_module": "@jupyter-widgets/controls",
      "_model_module_version": "1.5.0",
      "_model_name": "DescriptionStyleModel",
      "_view_count": null,
      "_view_module": "@jupyter-widgets/base",
      "_view_module_version": "1.2.0",
      "_view_name": "StyleView",
      "description_width": ""
     }
    }
   }
  },
  "accelerator": "GPU"
 },
 "nbformat": 4,
 "nbformat_minor": 0
}
