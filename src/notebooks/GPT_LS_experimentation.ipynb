{
 "cells": [
  {
   "cell_type": "code",
   "execution_count": null,
   "metadata": {},
   "outputs": [],
   "source": [
    "from google.colab import drive\n",
    "drive.mount('/content/drive', force_remount=True)"
   ]
  },
  {
   "cell_type": "code",
   "execution_count": null,
   "metadata": {},
   "outputs": [],
   "source": [
    "import sys\n",
    "sys.path.append('/content/drive/MyDrive/nlp_ss24/multilingual-lexical-simplification')\n",
    "sys.path.append('/content/drive/MyDrive/nlp_ss24/multilingual-lexical-simplification/src')"
   ]
  },
  {
   "cell_type": "code",
   "execution_count": null,
   "metadata": {},
   "outputs": [],
   "source": [
    "from gpt_lexical_simplifier import GPTLexicalSimplifier\n",
    "from benchmark_suite import BenchmarkSuite\n",
    "from language import Language"
   ]
  },
  {
   "cell_type": "code",
   "execution_count": null,
   "metadata": {},
   "outputs": [],
   "source": [
    "# Specify the patter to use for this lexical simplifier\n",
    "gpt_pattern = '{original_sentence}. Die vereinfachte Version des vorigen Satzes ist: {sentence_with_complex_word_masked}. Ten results as ordered, AST parsable Python list:'\n",
    "de_messages = [\n",
    "    {\"role\": \"user\", \"content\": \"Der Maschinenbau hat in Europa durch die Bildung der EU eine starke Erleichterung erhalten. Die vereinfachte Version des vorigen Satzes ist: Der Maschinenbau hat in Europa durch die Bildung der EU eine starke [MASK] erhalten. Results as ordered, AST parsable Python list:\"},\n",
    "    {\"role\": \"assistant\", \"content\": '[\"Vereinfachung\", \"Entspannung\", \"Begünstigung\", \"Unterstützung\", \"Rückenwind,  \"Förderung\", \"Rückhalt\", \"Aufwind\", \"Antrieb\", \"Erleichterung\"]'},\n",
    "    {\"role\": \"user\", \"content\": \"Die EU-Renaturierungsverordnung galt eigentlich bereits als durchgebracht; das EU-Parlament hatte zugestimmt und die Staaten ihren grundsätzlichen Sanktus signalisiert. Die vereinfachte Version des vorigen Satzes ist: Die EU-Renaturierungsverordnung galt eigentlich bereits als durchgebracht; das EU-Parlament hatte zugestimmt und die Staaten ihren grundsätzlichen [MASK] signalisiert. Ten results as ordered, AST parsable Python list:\"},\n",
    "    {\"role\": \"assistant\", \"content\": '[\"Zustimmung\", \"Einverständnis\", \"Okay\", \"Segen\", \"Billigung, Bestätigung, Bejahung, Zuspruch, Akzeptanz, Befürwortung\"]'},\n",
    "]\n",
    "en_messages = [\n",
    "    {\"role\": \"user\", \"content\": \"The president’s relatives were also said to be critical of the way his closest advisers had prepared him for the debate. The simplified version of the previous sentence is: The president’s relatives were also said to be critical of the way his closest [MASK] had prepared him for the debate. Results as ordered, AST parsable Python list:\"},\n",
    "    {\"role\": \"assistant\", \"content\": '[\"staff\", \"team\", \"aides\", \"consultants\", \"assistants\", \"strategists\", \"supporters\", \"handlers\", \"counselors\", \"staffers\"]'},\n",
    "    {\"role\": \"user\", \"content\": \"The intermediate sprint will come 94km or so into the stage. The simplified version of the previous sentence is: The intermediate sprint will come 94km or so into the [MASK]. Results as ordered, AST parsable Python list:\"},\n",
    "    {\"role\": \"assistant\", \"content\": '[\"segment\", \"part\", \"section\", \"phase\", \"leg\", \"interval\", \"course\", \"route\", \"portion\", \"strech\"]'},\n",
    "]\n",
    "gpt_ls = GPTLexicalSimplifier(None, None, pattern=gpt_pattern, exemplars=de_messages,mask_token=None,mask_token=None)\n"
   ]
  },
  {
   "cell_type": "code",
   "execution_count": null,
   "metadata": {},
   "outputs": [],
   "source": [
    "suite = BenchmarkSuite(gpt_ls, {\n",
    "        # Just run DE for now since EN has way more datasets and takes longer\n",
    "        #Language.EN: {'pattern': '{original_sentence}. The simplified version of the previous sentence is: '\n",
    "        #                         '{sentence_with_complex_word_masked}. Ten results as ordered, AST parsable '\n",
    "        #                         'Python list:',\n",
    "        #              'exemplars': en_messages},\n",
    "        Language.DE: {'pattern': '{original_sentence}. Die vereinfachte Version des vorigen Satzes ist: '\n",
    "                                 '{sentence_with_complex_word_masked}. Ten results as ordered, AST parsable '\n",
    "                                 'Python list:',\n",
    "                      'exemplars': de_messages}})\n",
    "suite.run()"
   ]
  }
 ],
 "metadata": {
  "language_info": {
   "name": "python"
  }
 },
 "nbformat": 4,
 "nbformat_minor": 2
}
