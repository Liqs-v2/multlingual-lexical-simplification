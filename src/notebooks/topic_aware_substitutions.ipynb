{
 "cells": [
  {
   "cell_type": "code",
   "source": [
    "!pip install bertopic\n",
    "!pip install safetensors"
   ],
   "metadata": {
    "colab": {
     "base_uri": "https://localhost:8080/"
    },
    "id": "0sM6yXS6E_qF",
    "executionInfo": {
     "status": "ok",
     "timestamp": 1720438148084,
     "user_tz": -120,
     "elapsed": 103650,
     "user": {
      "displayName": "Tobias Lindenbauer",
      "userId": "10361173233973415805"
     }
    },
    "outputId": "7a32f582-3eb6-43d7-897d-b3e4bccf434c"
   },
   "id": "0sM6yXS6E_qF",
   "execution_count": 1,
   "outputs": [
    {
     "output_type": "stream",
     "name": "stdout",
     "text": [
      "Collecting bertopic\n",
      "  Downloading bertopic-0.16.2-py2.py3-none-any.whl (158 kB)\n",
      "\u001B[2K     \u001B[90m━━━━━━━━━━━━━━━━━━━━━━━━━━━━━━━━━━━━━━━━\u001B[0m \u001B[32m158.8/158.8 kB\u001B[0m \u001B[31m1.9 MB/s\u001B[0m eta \u001B[36m0:00:00\u001B[0m\n",
      "\u001B[?25hRequirement already satisfied: numpy>=1.20.0 in /usr/local/lib/python3.10/dist-packages (from bertopic) (1.25.2)\n",
      "Collecting hdbscan>=0.8.29 (from bertopic)\n",
      "  Downloading hdbscan-0.8.37-cp310-cp310-manylinux_2_17_x86_64.manylinux2014_x86_64.whl (3.6 MB)\n",
      "\u001B[2K     \u001B[90m━━━━━━━━━━━━━━━━━━━━━━━━━━━━━━━━━━━━━━━━\u001B[0m \u001B[32m3.6/3.6 MB\u001B[0m \u001B[31m9.7 MB/s\u001B[0m eta \u001B[36m0:00:00\u001B[0m\n",
      "\u001B[?25hCollecting umap-learn>=0.5.0 (from bertopic)\n",
      "  Downloading umap_learn-0.5.6-py3-none-any.whl (85 kB)\n",
      "\u001B[2K     \u001B[90m━━━━━━━━━━━━━━━━━━━━━━━━━━━━━━━━━━━━━━━━\u001B[0m \u001B[32m85.7/85.7 kB\u001B[0m \u001B[31m7.7 MB/s\u001B[0m eta \u001B[36m0:00:00\u001B[0m\n",
      "\u001B[?25hRequirement already satisfied: pandas>=1.1.5 in /usr/local/lib/python3.10/dist-packages (from bertopic) (2.0.3)\n",
      "Requirement already satisfied: scikit-learn>=0.22.2.post1 in /usr/local/lib/python3.10/dist-packages (from bertopic) (1.2.2)\n",
      "Requirement already satisfied: tqdm>=4.41.1 in /usr/local/lib/python3.10/dist-packages (from bertopic) (4.66.4)\n",
      "Collecting sentence-transformers>=0.4.1 (from bertopic)\n",
      "  Downloading sentence_transformers-3.0.1-py3-none-any.whl (227 kB)\n",
      "\u001B[2K     \u001B[90m━━━━━━━━━━━━━━━━━━━━━━━━━━━━━━━━━━━━━━━━\u001B[0m \u001B[32m227.1/227.1 kB\u001B[0m \u001B[31m16.2 MB/s\u001B[0m eta \u001B[36m0:00:00\u001B[0m\n",
      "\u001B[?25hRequirement already satisfied: plotly>=4.7.0 in /usr/local/lib/python3.10/dist-packages (from bertopic) (5.15.0)\n",
      "Collecting cython<3,>=0.27 (from hdbscan>=0.8.29->bertopic)\n",
      "  Downloading Cython-0.29.37-cp310-cp310-manylinux_2_17_x86_64.manylinux2014_x86_64.manylinux_2_24_x86_64.whl (1.9 MB)\n",
      "\u001B[2K     \u001B[90m━━━━━━━━━━━━━━━━━━━━━━━━━━━━━━━━━━━━━━━━\u001B[0m \u001B[32m1.9/1.9 MB\u001B[0m \u001B[31m13.5 MB/s\u001B[0m eta \u001B[36m0:00:00\u001B[0m\n",
      "\u001B[?25hRequirement already satisfied: scipy>=1.0 in /usr/local/lib/python3.10/dist-packages (from hdbscan>=0.8.29->bertopic) (1.11.4)\n",
      "Requirement already satisfied: joblib>=1.0 in /usr/local/lib/python3.10/dist-packages (from hdbscan>=0.8.29->bertopic) (1.4.2)\n",
      "Requirement already satisfied: python-dateutil>=2.8.2 in /usr/local/lib/python3.10/dist-packages (from pandas>=1.1.5->bertopic) (2.8.2)\n",
      "Requirement already satisfied: pytz>=2020.1 in /usr/local/lib/python3.10/dist-packages (from pandas>=1.1.5->bertopic) (2023.4)\n",
      "Requirement already satisfied: tzdata>=2022.1 in /usr/local/lib/python3.10/dist-packages (from pandas>=1.1.5->bertopic) (2024.1)\n",
      "Requirement already satisfied: tenacity>=6.2.0 in /usr/local/lib/python3.10/dist-packages (from plotly>=4.7.0->bertopic) (8.4.2)\n",
      "Requirement already satisfied: packaging in /usr/local/lib/python3.10/dist-packages (from plotly>=4.7.0->bertopic) (24.1)\n",
      "Requirement already satisfied: threadpoolctl>=2.0.0 in /usr/local/lib/python3.10/dist-packages (from scikit-learn>=0.22.2.post1->bertopic) (3.5.0)\n",
      "Requirement already satisfied: transformers<5.0.0,>=4.34.0 in /usr/local/lib/python3.10/dist-packages (from sentence-transformers>=0.4.1->bertopic) (4.41.2)\n",
      "Requirement already satisfied: torch>=1.11.0 in /usr/local/lib/python3.10/dist-packages (from sentence-transformers>=0.4.1->bertopic) (2.3.0+cu121)\n",
      "Requirement already satisfied: huggingface-hub>=0.15.1 in /usr/local/lib/python3.10/dist-packages (from sentence-transformers>=0.4.1->bertopic) (0.23.4)\n",
      "Requirement already satisfied: Pillow in /usr/local/lib/python3.10/dist-packages (from sentence-transformers>=0.4.1->bertopic) (9.4.0)\n",
      "Requirement already satisfied: numba>=0.51.2 in /usr/local/lib/python3.10/dist-packages (from umap-learn>=0.5.0->bertopic) (0.58.1)\n",
      "Collecting pynndescent>=0.5 (from umap-learn>=0.5.0->bertopic)\n",
      "  Downloading pynndescent-0.5.13-py3-none-any.whl (56 kB)\n",
      "\u001B[2K     \u001B[90m━━━━━━━━━━━━━━━━━━━━━━━━━━━━━━━━━━━━━━━━\u001B[0m \u001B[32m56.9/56.9 kB\u001B[0m \u001B[31m5.9 MB/s\u001B[0m eta \u001B[36m0:00:00\u001B[0m\n",
      "\u001B[?25hRequirement already satisfied: filelock in /usr/local/lib/python3.10/dist-packages (from huggingface-hub>=0.15.1->sentence-transformers>=0.4.1->bertopic) (3.15.4)\n",
      "Requirement already satisfied: fsspec>=2023.5.0 in /usr/local/lib/python3.10/dist-packages (from huggingface-hub>=0.15.1->sentence-transformers>=0.4.1->bertopic) (2023.6.0)\n",
      "Requirement already satisfied: pyyaml>=5.1 in /usr/local/lib/python3.10/dist-packages (from huggingface-hub>=0.15.1->sentence-transformers>=0.4.1->bertopic) (6.0.1)\n",
      "Requirement already satisfied: requests in /usr/local/lib/python3.10/dist-packages (from huggingface-hub>=0.15.1->sentence-transformers>=0.4.1->bertopic) (2.31.0)\n",
      "Requirement already satisfied: typing-extensions>=3.7.4.3 in /usr/local/lib/python3.10/dist-packages (from huggingface-hub>=0.15.1->sentence-transformers>=0.4.1->bertopic) (4.12.2)\n",
      "Requirement already satisfied: llvmlite<0.42,>=0.41.0dev0 in /usr/local/lib/python3.10/dist-packages (from numba>=0.51.2->umap-learn>=0.5.0->bertopic) (0.41.1)\n",
      "Requirement already satisfied: six>=1.5 in /usr/local/lib/python3.10/dist-packages (from python-dateutil>=2.8.2->pandas>=1.1.5->bertopic) (1.16.0)\n",
      "Requirement already satisfied: sympy in /usr/local/lib/python3.10/dist-packages (from torch>=1.11.0->sentence-transformers>=0.4.1->bertopic) (1.12.1)\n",
      "Requirement already satisfied: networkx in /usr/local/lib/python3.10/dist-packages (from torch>=1.11.0->sentence-transformers>=0.4.1->bertopic) (3.3)\n",
      "Requirement already satisfied: jinja2 in /usr/local/lib/python3.10/dist-packages (from torch>=1.11.0->sentence-transformers>=0.4.1->bertopic) (3.1.4)\n",
      "Collecting nvidia-cuda-nvrtc-cu12==12.1.105 (from torch>=1.11.0->sentence-transformers>=0.4.1->bertopic)\n",
      "  Using cached nvidia_cuda_nvrtc_cu12-12.1.105-py3-none-manylinux1_x86_64.whl (23.7 MB)\n",
      "Collecting nvidia-cuda-runtime-cu12==12.1.105 (from torch>=1.11.0->sentence-transformers>=0.4.1->bertopic)\n",
      "  Using cached nvidia_cuda_runtime_cu12-12.1.105-py3-none-manylinux1_x86_64.whl (823 kB)\n",
      "Collecting nvidia-cuda-cupti-cu12==12.1.105 (from torch>=1.11.0->sentence-transformers>=0.4.1->bertopic)\n",
      "  Using cached nvidia_cuda_cupti_cu12-12.1.105-py3-none-manylinux1_x86_64.whl (14.1 MB)\n",
      "Collecting nvidia-cudnn-cu12==8.9.2.26 (from torch>=1.11.0->sentence-transformers>=0.4.1->bertopic)\n",
      "  Using cached nvidia_cudnn_cu12-8.9.2.26-py3-none-manylinux1_x86_64.whl (731.7 MB)\n",
      "Collecting nvidia-cublas-cu12==12.1.3.1 (from torch>=1.11.0->sentence-transformers>=0.4.1->bertopic)\n",
      "  Using cached nvidia_cublas_cu12-12.1.3.1-py3-none-manylinux1_x86_64.whl (410.6 MB)\n",
      "Collecting nvidia-cufft-cu12==11.0.2.54 (from torch>=1.11.0->sentence-transformers>=0.4.1->bertopic)\n",
      "  Using cached nvidia_cufft_cu12-11.0.2.54-py3-none-manylinux1_x86_64.whl (121.6 MB)\n",
      "Collecting nvidia-curand-cu12==10.3.2.106 (from torch>=1.11.0->sentence-transformers>=0.4.1->bertopic)\n",
      "  Using cached nvidia_curand_cu12-10.3.2.106-py3-none-manylinux1_x86_64.whl (56.5 MB)\n",
      "Collecting nvidia-cusolver-cu12==11.4.5.107 (from torch>=1.11.0->sentence-transformers>=0.4.1->bertopic)\n",
      "  Using cached nvidia_cusolver_cu12-11.4.5.107-py3-none-manylinux1_x86_64.whl (124.2 MB)\n",
      "Collecting nvidia-cusparse-cu12==12.1.0.106 (from torch>=1.11.0->sentence-transformers>=0.4.1->bertopic)\n",
      "  Using cached nvidia_cusparse_cu12-12.1.0.106-py3-none-manylinux1_x86_64.whl (196.0 MB)\n",
      "Collecting nvidia-nccl-cu12==2.20.5 (from torch>=1.11.0->sentence-transformers>=0.4.1->bertopic)\n",
      "  Using cached nvidia_nccl_cu12-2.20.5-py3-none-manylinux2014_x86_64.whl (176.2 MB)\n",
      "Collecting nvidia-nvtx-cu12==12.1.105 (from torch>=1.11.0->sentence-transformers>=0.4.1->bertopic)\n",
      "  Using cached nvidia_nvtx_cu12-12.1.105-py3-none-manylinux1_x86_64.whl (99 kB)\n",
      "Requirement already satisfied: triton==2.3.0 in /usr/local/lib/python3.10/dist-packages (from torch>=1.11.0->sentence-transformers>=0.4.1->bertopic) (2.3.0)\n",
      "Collecting nvidia-nvjitlink-cu12 (from nvidia-cusolver-cu12==11.4.5.107->torch>=1.11.0->sentence-transformers>=0.4.1->bertopic)\n",
      "  Downloading nvidia_nvjitlink_cu12-12.5.82-py3-none-manylinux2014_x86_64.whl (21.3 MB)\n",
      "\u001B[2K     \u001B[90m━━━━━━━━━━━━━━━━━━━━━━━━━━━━━━━━━━━━━━━━\u001B[0m \u001B[32m21.3/21.3 MB\u001B[0m \u001B[31m34.6 MB/s\u001B[0m eta \u001B[36m0:00:00\u001B[0m\n",
      "\u001B[?25hRequirement already satisfied: regex!=2019.12.17 in /usr/local/lib/python3.10/dist-packages (from transformers<5.0.0,>=4.34.0->sentence-transformers>=0.4.1->bertopic) (2024.5.15)\n",
      "Requirement already satisfied: tokenizers<0.20,>=0.19 in /usr/local/lib/python3.10/dist-packages (from transformers<5.0.0,>=4.34.0->sentence-transformers>=0.4.1->bertopic) (0.19.1)\n",
      "Requirement already satisfied: safetensors>=0.4.1 in /usr/local/lib/python3.10/dist-packages (from transformers<5.0.0,>=4.34.0->sentence-transformers>=0.4.1->bertopic) (0.4.3)\n",
      "Requirement already satisfied: MarkupSafe>=2.0 in /usr/local/lib/python3.10/dist-packages (from jinja2->torch>=1.11.0->sentence-transformers>=0.4.1->bertopic) (2.1.5)\n",
      "Requirement already satisfied: charset-normalizer<4,>=2 in /usr/local/lib/python3.10/dist-packages (from requests->huggingface-hub>=0.15.1->sentence-transformers>=0.4.1->bertopic) (3.3.2)\n",
      "Requirement already satisfied: idna<4,>=2.5 in /usr/local/lib/python3.10/dist-packages (from requests->huggingface-hub>=0.15.1->sentence-transformers>=0.4.1->bertopic) (3.7)\n",
      "Requirement already satisfied: urllib3<3,>=1.21.1 in /usr/local/lib/python3.10/dist-packages (from requests->huggingface-hub>=0.15.1->sentence-transformers>=0.4.1->bertopic) (2.0.7)\n",
      "Requirement already satisfied: certifi>=2017.4.17 in /usr/local/lib/python3.10/dist-packages (from requests->huggingface-hub>=0.15.1->sentence-transformers>=0.4.1->bertopic) (2024.6.2)\n",
      "Requirement already satisfied: mpmath<1.4.0,>=1.1.0 in /usr/local/lib/python3.10/dist-packages (from sympy->torch>=1.11.0->sentence-transformers>=0.4.1->bertopic) (1.3.0)\n",
      "Installing collected packages: nvidia-nvtx-cu12, nvidia-nvjitlink-cu12, nvidia-nccl-cu12, nvidia-curand-cu12, nvidia-cufft-cu12, nvidia-cuda-runtime-cu12, nvidia-cuda-nvrtc-cu12, nvidia-cuda-cupti-cu12, nvidia-cublas-cu12, cython, nvidia-cusparse-cu12, nvidia-cudnn-cu12, pynndescent, nvidia-cusolver-cu12, hdbscan, umap-learn, sentence-transformers, bertopic\n",
      "  Attempting uninstall: cython\n",
      "    Found existing installation: Cython 3.0.10\n",
      "    Uninstalling Cython-3.0.10:\n",
      "      Successfully uninstalled Cython-3.0.10\n",
      "Successfully installed bertopic-0.16.2 cython-0.29.37 hdbscan-0.8.37 nvidia-cublas-cu12-12.1.3.1 nvidia-cuda-cupti-cu12-12.1.105 nvidia-cuda-nvrtc-cu12-12.1.105 nvidia-cuda-runtime-cu12-12.1.105 nvidia-cudnn-cu12-8.9.2.26 nvidia-cufft-cu12-11.0.2.54 nvidia-curand-cu12-10.3.2.106 nvidia-cusolver-cu12-11.4.5.107 nvidia-cusparse-cu12-12.1.0.106 nvidia-nccl-cu12-2.20.5 nvidia-nvjitlink-cu12-12.5.82 nvidia-nvtx-cu12-12.1.105 pynndescent-0.5.13 sentence-transformers-3.0.1 umap-learn-0.5.6\n",
      "Requirement already satisfied: safetensors in /usr/local/lib/python3.10/dist-packages (0.4.3)\n"
     ]
    }
   ]
  },
  {
   "cell_type": "markdown",
   "source": [
    "# Prototyping"
   ],
   "metadata": {
    "id": "xhslM4IYFDmw"
   },
   "id": "xhslM4IYFDmw"
  },
  {
   "metadata": {
    "ExecuteTime": {
     "end_time": "2024-07-08T10:52:18.958369Z",
     "start_time": "2024-07-08T10:51:45.610588Z"
    },
    "collapsed": true,
    "id": "93f2199f0b330272",
    "executionInfo": {
     "status": "ok",
     "timestamp": 1720440426322,
     "user_tz": -120,
     "elapsed": 2482,
     "user": {
      "displayName": "Tobias Lindenbauer",
      "userId": "10361173233973415805"
     }
    }
   },
   "cell_type": "code",
   "source": [
    "from bertopic import BERTopic\n",
    "topic_model = BERTopic.load(\"MaartenGr/BERTopic_Wikipedia\")"
   ],
   "id": "93f2199f0b330272",
   "outputs": [],
   "execution_count": 7
  },
  {
   "metadata": {
    "ExecuteTime": {
     "end_time": "2024-07-08T10:56:58.166212Z",
     "start_time": "2024-07-08T10:56:58.137358Z"
    },
    "id": "631dd0ec19ef0001",
    "executionInfo": {
     "status": "ok",
     "timestamp": 1720440426322,
     "user_tz": -120,
     "elapsed": 2,
     "user": {
      "displayName": "Tobias Lindenbauer",
      "userId": "10361173233973415805"
     }
    }
   },
   "cell_type": "code",
   "source": [
    "compact_topics = topic_model.generate_topic_labels(nr_words=3, word_length=15)"
   ],
   "id": "631dd0ec19ef0001",
   "outputs": [],
   "execution_count": 8
  },
  {
   "metadata": {
    "ExecuteTime": {
     "end_time": "2024-07-08T10:57:02.390223Z",
     "start_time": "2024-07-08T10:57:02.382884Z"
    },
    "id": "b701e7303513af6c",
    "outputId": "5a609354-cf0a-4076-e771-6ff24d96a022"
   },
   "cell_type": "code",
   "source": [
    "compact_topics[pred[0][0]+1]"
   ],
   "id": "b701e7303513af6c",
   "outputs": [
    {
     "data": {
      "text/plain": [
       "'1457_presidents_presidential_presidency'"
      ]
     },
     "execution_count": 21,
     "metadata": {},
     "output_type": "execute_result"
    }
   ],
   "execution_count": null
  },
  {
   "cell_type": "code",
   "source": [
    "from utils.bench_ls_data_provider import BenchLSDataProvider"
   ],
   "metadata": {
    "id": "Gfe9sgjGLsbA",
    "executionInfo": {
     "status": "ok",
     "timestamp": 1720440433115,
     "user_tz": -120,
     "elapsed": 347,
     "user": {
      "displayName": "Tobias Lindenbauer",
      "userId": "10361173233973415805"
     }
    }
   },
   "id": "Gfe9sgjGLsbA",
   "execution_count": 9,
   "outputs": []
  },
  {
   "cell_type": "code",
   "source": [
    "dp = BenchLSDataProvider()\n",
    "data = dp.provide_data_as_numpy_array()"
   ],
   "metadata": {
    "id": "iAw8_ZZLL0u1",
    "executionInfo": {
     "status": "ok",
     "timestamp": 1720440433499,
     "user_tz": -120,
     "elapsed": 2,
     "user": {
      "displayName": "Tobias Lindenbauer",
      "userId": "10361173233973415805"
     }
    }
   },
   "id": "iAw8_ZZLL0u1",
   "execution_count": 10,
   "outputs": []
  },
  {
   "cell_type": "code",
   "source": [
    "original_sentences = [sample[0] for sample in data]"
   ],
   "metadata": {
    "id": "ukGUrYu4L6SQ",
    "executionInfo": {
     "status": "ok",
     "timestamp": 1720440433849,
     "user_tz": -120,
     "elapsed": 3,
     "user": {
      "displayName": "Tobias Lindenbauer",
      "userId": "10361173233973415805"
     }
    }
   },
   "id": "ukGUrYu4L6SQ",
   "execution_count": 11,
   "outputs": []
  },
  {
   "cell_type": "code",
   "source": [
    "topics_idx = topic_model.transform(original_sentences)"
   ],
   "metadata": {
    "colab": {
     "base_uri": "https://localhost:8080/",
     "height": 87,
     "referenced_widgets": [
      "0884010ccadc4792b5c2dc07d6b51d37",
      "b8c7cd07e03446e98ad4400c926b5140",
      "4713ce2fb39e4844bd8427bb68081397",
      "ef71e579b2334b3fbe2813640a6a2d96",
      "5466ce73f8c44442a7493abef3cf790d",
      "b1f82a9ba82943339a66a11f397456e7",
      "9615f80f93f04988bda9bbc1768c1a81",
      "97cdec9b4bd649f4adb945cb4cd0fa07",
      "c8f2ecb6dc614394b23bfcdd31ba0f85",
      "2e9e4a109f69457fbd4ad4e777684c3f",
      "d5953c5374ed4522bf3b1012d8be84e5"
     ]
    },
    "id": "QjqRU78KMHkk",
    "executionInfo": {
     "status": "ok",
     "timestamp": 1720440467553,
     "user_tz": -120,
     "elapsed": 752,
     "user": {
      "displayName": "Tobias Lindenbauer",
      "userId": "10361173233973415805"
     }
    },
    "outputId": "aa1647cb-305e-4761-c134-e6ee18617646"
   },
   "id": "QjqRU78KMHkk",
   "execution_count": 16,
   "outputs": [
    {
     "output_type": "display_data",
     "data": {
      "text/plain": [
       "Batches:   0%|          | 0/30 [00:00<?, ?it/s]"
      ],
      "application/vnd.jupyter.widget-view+json": {
       "version_major": 2,
       "version_minor": 0,
       "model_id": "0884010ccadc4792b5c2dc07d6b51d37"
      }
     },
     "metadata": {}
    },
    {
     "output_type": "stream",
     "name": "stderr",
     "text": [
      "2024-07-08 12:07:47,664 - BERTopic - Predicting topic assignments through cosine similarity of topic and document embeddings.\n"
     ]
    }
   ]
  },
  {
   "cell_type": "code",
   "source": [
    "topics_idx = [topic_idx+1 for topic_idx in topics_idx[0]]"
   ],
   "metadata": {
    "id": "7E-pv44zMbbk",
    "executionInfo": {
     "status": "ok",
     "timestamp": 1720440436485,
     "user_tz": -120,
     "elapsed": 286,
     "user": {
      "displayName": "Tobias Lindenbauer",
      "userId": "10361173233973415805"
     }
    }
   },
   "id": "7E-pv44zMbbk",
   "execution_count": 13,
   "outputs": []
  },
  {
   "cell_type": "code",
   "source": [
    "topics_idx[0]"
   ],
   "metadata": {
    "colab": {
     "base_uri": "https://localhost:8080/"
    },
    "id": "oHCPotZJPccA",
    "executionInfo": {
     "status": "ok",
     "timestamp": 1720440480794,
     "user_tz": -120,
     "elapsed": 292,
     "user": {
      "displayName": "Tobias Lindenbauer",
      "userId": "10361173233973415805"
     }
    },
    "outputId": "ed00d849-76a7-4bc1-a70e-a757da615b50"
   },
   "id": "oHCPotZJPccA",
   "execution_count": 18,
   "outputs": [
    {
     "output_type": "execute_result",
     "data": {
      "text/plain": [
       "array([ 847,  996,  127,  789,  266, 2178,    5, 1474, 1276,  960,  205,\n",
       "       1345,   22,  266,  266,   40,  252, 1326,  528,  266, 1836,  666,\n",
       "         45,   40, 2094,   27,    4,  582,  645,  979,   15, 1760, 1147,\n",
       "         57,   17,  215,  140, 1865,  967,  195, 1847, 1833,   57,   47,\n",
       "       1970, 1960,  179,   42, 1281,  987,  391,  113, 1273, 1381, 1184,\n",
       "        105, 1795,  166,  941,  266, 1317,  433, 2169, 2278,  102,  809,\n",
       "        398,  915, 1396, 1494, 1255, 2234, 2212,  451, 1302,    2, 2210,\n",
       "       1874,  835, 1936, 1101, 1281,  613, 1775,  125, 1138,  238, 1913,\n",
       "       1623,  679,  662,    9, 1468,   57,   94,  987, 1795, 1314,  332,\n",
       "       1661,  178,    7, 1668,   40,  536,    0, 1183,  543,  223,  102,\n",
       "       1515,  686,   79, 1913, 2022,   95,   17, 1700, 1605,   57,  550,\n",
       "          2,  644, 2334,  991,  191,  355,  684,  557, 2160,  446,  714,\n",
       "        266, 1382,   17, 1927, 2094, 2289,   15,  278,   17,    5,  161,\n",
       "       1967, 1518,  523,   46, 1635,   61, 1588, 1719, 2250,  645,  848,\n",
       "        547,  121, 2366, 1624,   46, 1184,  816, 1236,   15,  677,  550,\n",
       "       1382,  425, 1546, 2286,  495,  438,  675,  679,  596,  266,  523,\n",
       "         93, 1152,  913, 1202,  117, 1029, 2206, 1168,  313, 1144,  487,\n",
       "        171,  127, 2192, 2006, 2001, 1809, 1281,  266, 2107, 1445,  166,\n",
       "        810,  376,   28, 1968,    9, 1202, 1327,  374, 2292, 1148,  296,\n",
       "        645,  169, 1066, 1909,  967,   20,   54,  449, 2248,    2,  171,\n",
       "       2002, 1515, 1800,  960,  347,   46,   86,  950, 1588,    4, 1975,\n",
       "        379, 1595, 1303,   40,    7, 1722,   69,  266,  217, 1398, 1618,\n",
       "        355,   21, 1932,  223, 1613, 1530, 2046,  587,  169, 2209, 1822,\n",
       "       2234,  251,  159, 2063, 1773,  141, 1292,   51, 1606,   32,  239,\n",
       "        621, 1482, 2011,   28,  236,  271,   57, 1910,   14,   46, 2023,\n",
       "        514, 1544,  251,   65, 1672,    5,  537,  133,  324,  171,  754,\n",
       "       1137,   22,  669,  427, 2247,  266,  104,   46,  618, 2340,   46,\n",
       "        564,  103, 2358, 1381, 1302,  481,  217,  118,   57,    0,  138,\n",
       "        833, 2256,  604, 1295,   53,  523, 1131,  536,  130,  138,  168,\n",
       "        651,  536, 1597, 1492, 1381, 1345, 1692, 1452, 2023,  159, 1255,\n",
       "       1160, 1321,  822,  472,  215, 1409,  476,  193,  408, 1184, 1261,\n",
       "        385, 1357, 1838, 1803, 1015,  101,  967,  468,  254, 1340,   26,\n",
       "       1279, 1713,  996, 1499,   41,  590,  107,  100,   94, 1403,   42,\n",
       "       1954, 1618, 1092,  215,   12,  340, 2025,  946, 1722,    8, 2033,\n",
       "        877,  409,  179, 1602,  191, 1089, 2344,  281,  942,  266,  877,\n",
       "        688,   57, 1885,  138, 1071, 1006, 2278,  600,  486, 1168,  185,\n",
       "       1589,  810,   79,  202,  190, 1613, 2340,  299, 1955,  355,   36,\n",
       "       1546, 1622,  180,   17, 1069, 1588, 1281,  391,  380,  536, 1956,\n",
       "         67,  454,    4,  288,  214,    3,   40, 1886, 1618,    3,  183,\n",
       "        936,   57,  628, 1195, 2248, 1569,   17,   28,  219, 2105, 1934,\n",
       "       1367, 1193,    4, 1566, 2206,  523,   46, 1419, 1382,  324,   52,\n",
       "       2147,  120, 1164,  852,   46,  967,  636,   46, 1616,  644,    4,\n",
       "        352,  324, 1870, 1015,  330,  982,  139,  188,  946, 1058,  239,\n",
       "       1168, 2238,   63, 1274, 1675,   40,  942, 1621,  136,   28,   32,\n",
       "       1328, 2297, 2314, 1397, 2299,  266,  645,  312,  644, 2229, 1858,\n",
       "       1515,    2, 1301,  648,  119,   11,  936,  480,  192,  956,  119,\n",
       "       1572,  956,  947,   19,  382, 1283,  248,  127,  934,   45,  121,\n",
       "        830,  253,   33, 1901,  637, 1109,  902,  713,  756,  460, 1901,\n",
       "       1901,  147,   42,  956,   25, 1346,    5, 1036,   40,   42,  550,\n",
       "       1471, 2238, 1992,  110,  261, 1042,  999, 2331, 2144,   22, 1766,\n",
       "        297,   33,  597,  686,  195,  757,  394,  956, 2078,  219,  115,\n",
       "        219,   11,  289, 1024, 1727,  743,  951,  815, 1013,  230, 1932,\n",
       "       2331,  320, 1501,  985,   64, 2100, 1958, 1163,  179,  147, 1507,\n",
       "       2280, 1292, 2159,  806,  126, 1212, 1467,  663,  171, 1468,  304,\n",
       "        435, 1119,   98,  166,   15,  562,  999,  229,  333, 1199,  113,\n",
       "       2008,  562,   47,  522, 2234, 2075,  195,   -1, 2286, 1324,  160,\n",
       "        384, 2354,  104,  345,  933, 1346, 2118,  511,  720,   49,   43,\n",
       "       1013, 1997,  627,  473, 1821, 1901, 2030,  791, 2333, 1560,  791,\n",
       "       1186,  941, 2089,  698, 1024, 2030,  622,    2, 1384,    5,  234,\n",
       "         32,   26,   97, 2248,  394,  436, 1043,  730, 1300, 1372, 1795,\n",
       "       1093,  165,  934, 1844,   75, 1155,  775, 1825,  301, 1840,  839,\n",
       "        982, 1168,   32,   15, 1204,  179,   15, 1576,  195,  941,  757,\n",
       "         43,  146,  202,  542, 1467, 2026, 2349, 2270,  669,  242, 1501,\n",
       "       2003,   52, 1509, 2047,  632, 1240,  669, 1623, 2184, 2250,  395,\n",
       "        480, 1402,  622,  343, 1471,  677, 1107,   43, 1001,  956,  635,\n",
       "        511,  147, 1828,  406,  956, 1108, 2017, 1527, 2212, 1630, 1745,\n",
       "       1954, 1357, 1399, 2370,  877, 1842, 2115,  296, 1966, 1098,  406,\n",
       "        538,  784,  589,   73,  321,   13,  117,  147,  363, 1901,  534,\n",
       "       1190,  870, 1155, 1064,  109,  391,   11,  649, 1346,  414,  135,\n",
       "        419,  725, 1358,   37,   15,   44,  415, 2236, 1774,   23,  791,\n",
       "        830,  273,   45, 2373, 1066,  474, 2047,  511,  737,  941, 1051,\n",
       "        511,  603,  710,  967,  115, 1605, 1402,  456, 2250,  480,  627,\n",
       "         76,  936,  320,  248, 1627, 2250,  117,  147,  285,  285, 2030,\n",
       "       1593,  929, 2050,  886, 2030,   16,  729, 1300, 1854,  251,  613,\n",
       "       1409,  257, 1271, 1655, 1402, 1344,  385,  253,  286,  511, 1409,\n",
       "       1344, 2262, 2250,  187, 1127, 2270,  109, 2286, 2118, 1578, 2286,\n",
       "        656, 2270, 1015,  830,  842, 1511,  146, 1881, 1881, 1527, 1534,\n",
       "        905,  669,   53,  221,   41, 1588,   64, 1233,  186, 1475,  126,\n",
       "        791, 1360,  863,  177,  498,  263,  202, 1652,  451, 2265,  394,\n",
       "          5,  135,  597,  138, 1967,  731,    5, 1621, 2345, 2373,  927,\n",
       "       2331,  666, 1232,  114, 1655, 2302,  221,   20,  436,  146, 1358,\n",
       "        606,  343, 1344,  251, 1953,  238, 1134,  456,   45,  119, 2286,\n",
       "         45, 1117,  775, 1382, 1403, 1051, 1435, 1942,  202,  912, 1013,\n",
       "        767,  657, 1942,  870,   15, 1321, 1446,   34,  391, 2139,  536,\n",
       "        941, 1155,  353,  671,  463])"
      ]
     },
     "metadata": {},
     "execution_count": 18
    }
   ]
  },
  {
   "metadata": {
    "id": "e3fcc876863d63ed"
   },
   "cell_type": "markdown",
   "source": [
    "# Demo on EN datasets with SimpleBERTLexicalSimplifier"
   ],
   "id": "e3fcc876863d63ed"
  },
  {
   "cell_type": "code",
   "source": [
    "from google.colab import drive\n",
    "drive.mount('/content/drive', force_remount=True)"
   ],
   "metadata": {
    "colab": {
     "base_uri": "https://localhost:8080/"
    },
    "id": "uKBk5c5xFyDT",
    "executionInfo": {
     "status": "ok",
     "timestamp": 1720440681424,
     "user_tz": -120,
     "elapsed": 3853,
     "user": {
      "displayName": "Tobias Lindenbauer",
      "userId": "10361173233973415805"
     }
    },
    "outputId": "88bcbb60-4c4a-474d-b997-f7f40d724c98"
   },
   "id": "uKBk5c5xFyDT",
   "execution_count": 1,
   "outputs": [
    {
     "output_type": "stream",
     "name": "stdout",
     "text": [
      "Mounted at /content/drive\n"
     ]
    }
   ]
  },
  {
   "cell_type": "code",
   "source": [
    "import sys\n",
    "sys.path.append('/content/drive/MyDrive/nlp_ss24/multilingual-lexical-simplification')\n",
    "sys.path.append('/content/drive/MyDrive/nlp_ss24/multilingual-lexical-simplification/src')"
   ],
   "metadata": {
    "id": "IwvrXP2jFzW-",
    "executionInfo": {
     "status": "ok",
     "timestamp": 1720440681425,
     "user_tz": -120,
     "elapsed": 5,
     "user": {
      "displayName": "Tobias Lindenbauer",
      "userId": "10361173233973415805"
     }
    }
   },
   "id": "IwvrXP2jFzW-",
   "execution_count": 2,
   "outputs": []
  },
  {
   "cell_type": "code",
   "source": [
    "from llm_lexical_simplifier import LLMLexicalSimplifier\n",
    "import torch\n",
    "from transformers import AutoModelForCausalLM, AutoTokenizer, AutoModelForMaskedLM\n",
    "from simple_bert_lexical_simplifier import SimpleBertLexicalSimplifier\n",
    "from benchmark_suite import BenchmarkSuite\n",
    "from language import Language"
   ],
   "metadata": {
    "colab": {
     "base_uri": "https://localhost:8080/"
    },
    "id": "WZ0h5ifjF0rV",
    "executionInfo": {
     "status": "ok",
     "timestamp": 1720440710271,
     "user_tz": -120,
     "elapsed": 28849,
     "user": {
      "displayName": "Tobias Lindenbauer",
      "userId": "10361173233973415805"
     }
    },
    "outputId": "f6591068-bffa-45fd-a039-92c6571c2260"
   },
   "id": "WZ0h5ifjF0rV",
   "execution_count": 3,
   "outputs": [
    {
     "output_type": "stream",
     "name": "stdout",
     "text": [
      "Using cuda for model inference.\n"
     ]
    }
   ]
  },
  {
   "metadata": {
    "ExecuteTime": {
     "end_time": "2024-07-08T11:07:53.334833Z",
     "start_time": "2024-07-08T11:07:38.851963Z"
    },
    "colab": {
     "base_uri": "https://localhost:8080/"
    },
    "id": "6fe322a6c2e89180",
    "executionInfo": {
     "status": "ok",
     "timestamp": 1720440712037,
     "user_tz": -120,
     "elapsed": 1771,
     "user": {
      "displayName": "Tobias Lindenbauer",
      "userId": "10361173233973415805"
     }
    },
    "outputId": "cfdb9e33-46e3-4f8d-c5d0-51b484c08d1e"
   },
   "cell_type": "code",
   "source": [
    "bert_tokenizer = AutoTokenizer.from_pretrained(\"google-bert/bert-base-cased\")\n",
    "bert_model = AutoModelForMaskedLM.from_pretrained(\"google-bert/bert-base-cased\")"
   ],
   "id": "6fe322a6c2e89180",
   "outputs": [
    {
     "output_type": "stream",
     "name": "stderr",
     "text": [
      "Some weights of the model checkpoint at google-bert/bert-base-cased were not used when initializing BertForMaskedLM: ['bert.pooler.dense.bias', 'bert.pooler.dense.weight', 'cls.seq_relationship.bias', 'cls.seq_relationship.weight']\n",
      "- This IS expected if you are initializing BertForMaskedLM from the checkpoint of a model trained on another task or with another architecture (e.g. initializing a BertForSequenceClassification model from a BertForPreTraining model).\n",
      "- This IS NOT expected if you are initializing BertForMaskedLM from the checkpoint of a model that you expect to be exactly identical (initializing a BertForSequenceClassification model from a BertForSequenceClassification model).\n"
     ]
    }
   ],
   "execution_count": 4
  },
  {
   "metadata": {
    "colab": {
     "base_uri": "https://localhost:8080/"
    },
    "id": "eee79eee39cfdfaa",
    "executionInfo": {
     "status": "ok",
     "timestamp": 1720440712377,
     "user_tz": -120,
     "elapsed": 344,
     "user": {
      "displayName": "Tobias Lindenbauer",
      "userId": "10361173233973415805"
     }
    },
    "outputId": "70d4de54-777f-4184-98e0-2b9b55943566"
   },
   "cell_type": "code",
   "outputs": [
    {
     "output_type": "stream",
     "name": "stdout",
     "text": [
      "Using mask token: \"[MASK]\".\n"
     ]
    }
   ],
   "execution_count": 5,
   "source": [
    "bert_ls = SimpleBertLexicalSimplifier(model=bert_model,\n",
    "                                      tokenizer=bert_tokenizer,\n",
    "                                      mask_token='[MASK]',\n",
    "                                      pattern='{original_sentence}. The simpler version of the previous sentence in the domain \"{topic}\" is: {sentence_with_complex_word_masked}. Top ten results:',\n",
    "                                      exemplars=None)"
   ],
   "id": "eee79eee39cfdfaa"
  },
  {
   "metadata": {
    "colab": {
     "base_uri": "https://localhost:8080/",
     "height": 397,
     "referenced_widgets": [
      "933852719ab94dd49d8bce4037de7afc",
      "32539966f1c64ba5b60d8dfc69488a3c",
      "1340fcc565c7440ebf0d91171c076705",
      "34f6e1ee364d4e58ba07e445d13c0a6a",
      "30f4aa9437ee4a52a7429595368a95ce",
      "c37dd8abe5f24c85b076e6dc8cfa3783",
      "55704aa64a52447b9eb871b075730ebe",
      "f3a6ed823df14ca7a1316906c76b1d6b",
      "09d14d0656d6456593e339a42030c24f",
      "2d127fe04fd54c5c899f6edb15de6f16",
      "abc13a1872324c488f831acaa8826ab8",
      "985dc42b976e4c24ad194adef61dd77a",
      "8c5e2d526c8445b3aa9df012f6640928",
      "832d16b2c8de432eb8f4b5b015789b1f",
      "8523dd99ce914e85afb5a11a052d5af7",
      "87c9ae5fd40740b991cc46efc8e82959",
      "12d12fab456843808e54433aa763cf11",
      "d68772df55df47568af8d7ddaf01692a",
      "209b1e7f2e5046a7a9e4681fcaf52828",
      "492c7a862e8749868dfb995cdb5608ee",
      "c3fdbe25ea2e469cb32ff43f617f3026",
      "3e1c17ffbcbf4f51a1ffde562211c2d3",
      "90abb3dadfe0479f898d485c787c6400",
      "6d7ddc0566da44a597a0a85e01432c76",
      "f13c7ee943d7474e8b800d08d517db68",
      "c84241119cc745ccb7c7aecfa0c6fd2c",
      "80f7e6e2b0bc40f6974a6e0ecb20e34b",
      "2ad3e28711bc4bcb94f2990a57d7ab17",
      "0eacc4367d8843898dfa85a9bac644dd",
      "1822e85fe5744d1aa0b4a0b6231f9451",
      "55b83f0119064eeda79b6de7a970b2d8",
      "8410324854184e9ca7a333513d906af4",
      "9480c254be284afebe945d9ef8869a16",
      "4a750e5d1a474351be8a22b406b02173",
      "4491b2781b7948eb8fb8bf4c43d6c52f",
      "e2c406a9bf90498fa0234641b409e5fd",
      "4bbc5c7b458f4e24acf71b3a0ce8d7d4",
      "f85b60e0149a4254bcb642100596e75b",
      "203cdf4ac2ae438aafa127decefa8a57",
      "fee6ee9288db406fb8ae112e4f844c30",
      "8571c82a2ff64e32a932ad41a38c3d36",
      "c108c36b2d304ba39320293ca594bc16",
      "48315f44602c4587b0030038c5df9b64",
      "70ff137e1f344993b242204cf4d57754"
     ]
    },
    "id": "7253554b1a22a8cf",
    "executionInfo": {
     "status": "ok",
     "timestamp": 1720440741877,
     "user_tz": -120,
     "elapsed": 29503,
     "user": {
      "displayName": "Tobias Lindenbauer",
      "userId": "10361173233973415805"
     }
    },
    "outputId": "2d7896e6-bfa4-45a0-86a5-e0b72d64b896"
   },
   "cell_type": "code",
   "outputs": [
    {
     "output_type": "stream",
     "name": "stdout",
     "text": [
      "Benchmarking model on EN ...\n",
      "Benchmarking model on BenchLSDataProvider...\n"
     ]
    },
    {
     "output_type": "display_data",
     "data": {
      "text/plain": [
       "Batches:   0%|          | 0/30 [00:00<?, ?it/s]"
      ],
      "application/vnd.jupyter.widget-view+json": {
       "version_major": 2,
       "version_minor": 0,
       "model_id": "933852719ab94dd49d8bce4037de7afc"
      }
     },
     "metadata": {}
    },
    {
     "output_type": "stream",
     "name": "stderr",
     "text": [
      "2024-07-08 12:11:56,708 - BERTopic - Predicting topic assignments through cosine similarity of topic and document embeddings.\n",
      "Benchmarking: 100%|██████████| 929/929 [00:10<00:00, 88.11it/s]"
     ]
    },
    {
     "output_type": "stream",
     "name": "stdout",
     "text": [
      "Benchmarking model on LexMTurkDataProvider...\n"
     ]
    },
    {
     "output_type": "stream",
     "name": "stderr",
     "text": [
      "\n"
     ]
    },
    {
     "output_type": "display_data",
     "data": {
      "text/plain": [
       "Batches:   0%|          | 0/16 [00:00<?, ?it/s]"
      ],
      "application/vnd.jupyter.widget-view+json": {
       "version_major": 2,
       "version_minor": 0,
       "model_id": "985dc42b976e4c24ad194adef61dd77a"
      }
     },
     "metadata": {}
    },
    {
     "output_type": "stream",
     "name": "stderr",
     "text": [
      "2024-07-08 12:12:07,643 - BERTopic - Predicting topic assignments through cosine similarity of topic and document embeddings.\n",
      "Benchmarking: 100%|██████████| 500/500 [00:06<00:00, 81.77it/s]"
     ]
    },
    {
     "output_type": "stream",
     "name": "stdout",
     "text": [
      "Benchmarking model on NNSevalDataProvider...\n"
     ]
    },
    {
     "output_type": "stream",
     "name": "stderr",
     "text": [
      "\n"
     ]
    },
    {
     "output_type": "display_data",
     "data": {
      "text/plain": [
       "Batches:   0%|          | 0/8 [00:00<?, ?it/s]"
      ],
      "application/vnd.jupyter.widget-view+json": {
       "version_major": 2,
       "version_minor": 0,
       "model_id": "90abb3dadfe0479f898d485c787c6400"
      }
     },
     "metadata": {}
    },
    {
     "output_type": "stream",
     "name": "stderr",
     "text": [
      "2024-07-08 12:12:13,956 - BERTopic - Predicting topic assignments through cosine similarity of topic and document embeddings.\n",
      "Benchmarking: 100%|██████████| 239/239 [00:02<00:00, 88.73it/s]\n"
     ]
    },
    {
     "output_type": "stream",
     "name": "stdout",
     "text": [
      "Benchmarking model on TsarENDataProvider...\n"
     ]
    },
    {
     "output_type": "display_data",
     "data": {
      "text/plain": [
       "Batches:   0%|          | 0/13 [00:00<?, ?it/s]"
      ],
      "application/vnd.jupyter.widget-view+json": {
       "version_major": 2,
       "version_minor": 0,
       "model_id": "4a750e5d1a474351be8a22b406b02173"
      }
     },
     "metadata": {}
    },
    {
     "output_type": "stream",
     "name": "stderr",
     "text": [
      "2024-07-08 12:12:16,922 - BERTopic - Predicting topic assignments through cosine similarity of topic and document embeddings.\n",
      "Benchmarking: 100%|██████████| 386/386 [00:04<00:00, 79.18it/s]\n"
     ]
    }
   ],
   "execution_count": 6,
   "source": [
    "suite = BenchmarkSuite(bert_ls,\n",
    "                       {Language.EN: {'pattern': '{original_sentence}. The simpler version of the previous sentence in the domain \"{topic}\" is: {sentence_with_complex_word_masked}. Top ten results:', 'exemplars': None}}, should_pass_topic=True)\n",
    "suite.run()"
   ],
   "id": "7253554b1a22a8cf"
  },
  {
   "cell_type": "code",
   "source": [],
   "metadata": {
    "id": "66TYYZQSHHFz",
    "executionInfo": {
     "status": "aborted",
     "timestamp": 1720440374091,
     "user_tz": -120,
     "elapsed": 3,
     "user": {
      "displayName": "Tobias Lindenbauer",
      "userId": "10361173233973415805"
     }
    }
   },
   "id": "66TYYZQSHHFz",
   "execution_count": null,
   "outputs": []
  }
 ],
 "metadata": {
  "kernelspec": {
   "display_name": "Python 3",
   "name": "python3"
  },
  "language_info": {
   "codemirror_mode": {
    "name": "ipython",
    "version": 2
   },
   "file_extension": ".py",
   "mimetype": "text/x-python",
   "name": "python",
   "nbconvert_exporter": "python",
   "pygments_lexer": "ipython2",
   "version": "2.7.6"
  },
  "colab": {
   "provenance": [],
   "gpuType": "T4"
  },
  "accelerator": "GPU",
  "widgets": {
   "application/vnd.jupyter.widget-state+json": {
    "0884010ccadc4792b5c2dc07d6b51d37": {
     "model_module": "@jupyter-widgets/controls",
     "model_name": "HBoxModel",
     "model_module_version": "1.5.0",
     "state": {
      "_dom_classes": [],
      "_model_module": "@jupyter-widgets/controls",
      "_model_module_version": "1.5.0",
      "_model_name": "HBoxModel",
      "_view_count": null,
      "_view_module": "@jupyter-widgets/controls",
      "_view_module_version": "1.5.0",
      "_view_name": "HBoxView",
      "box_style": "",
      "children": [
       "IPY_MODEL_b8c7cd07e03446e98ad4400c926b5140",
       "IPY_MODEL_4713ce2fb39e4844bd8427bb68081397",
       "IPY_MODEL_ef71e579b2334b3fbe2813640a6a2d96"
      ],
      "layout": "IPY_MODEL_5466ce73f8c44442a7493abef3cf790d"
     }
    },
    "b8c7cd07e03446e98ad4400c926b5140": {
     "model_module": "@jupyter-widgets/controls",
     "model_name": "HTMLModel",
     "model_module_version": "1.5.0",
     "state": {
      "_dom_classes": [],
      "_model_module": "@jupyter-widgets/controls",
      "_model_module_version": "1.5.0",
      "_model_name": "HTMLModel",
      "_view_count": null,
      "_view_module": "@jupyter-widgets/controls",
      "_view_module_version": "1.5.0",
      "_view_name": "HTMLView",
      "description": "",
      "description_tooltip": null,
      "layout": "IPY_MODEL_b1f82a9ba82943339a66a11f397456e7",
      "placeholder": "​",
      "style": "IPY_MODEL_9615f80f93f04988bda9bbc1768c1a81",
      "value": "Batches: 100%"
     }
    },
    "4713ce2fb39e4844bd8427bb68081397": {
     "model_module": "@jupyter-widgets/controls",
     "model_name": "FloatProgressModel",
     "model_module_version": "1.5.0",
     "state": {
      "_dom_classes": [],
      "_model_module": "@jupyter-widgets/controls",
      "_model_module_version": "1.5.0",
      "_model_name": "FloatProgressModel",
      "_view_count": null,
      "_view_module": "@jupyter-widgets/controls",
      "_view_module_version": "1.5.0",
      "_view_name": "ProgressView",
      "bar_style": "success",
      "description": "",
      "description_tooltip": null,
      "layout": "IPY_MODEL_97cdec9b4bd649f4adb945cb4cd0fa07",
      "max": 30,
      "min": 0,
      "orientation": "horizontal",
      "style": "IPY_MODEL_c8f2ecb6dc614394b23bfcdd31ba0f85",
      "value": 30
     }
    },
    "ef71e579b2334b3fbe2813640a6a2d96": {
     "model_module": "@jupyter-widgets/controls",
     "model_name": "HTMLModel",
     "model_module_version": "1.5.0",
     "state": {
      "_dom_classes": [],
      "_model_module": "@jupyter-widgets/controls",
      "_model_module_version": "1.5.0",
      "_model_name": "HTMLModel",
      "_view_count": null,
      "_view_module": "@jupyter-widgets/controls",
      "_view_module_version": "1.5.0",
      "_view_name": "HTMLView",
      "description": "",
      "description_tooltip": null,
      "layout": "IPY_MODEL_2e9e4a109f69457fbd4ad4e777684c3f",
      "placeholder": "​",
      "style": "IPY_MODEL_d5953c5374ed4522bf3b1012d8be84e5",
      "value": " 30/30 [00:00&lt;00:00, 60.24it/s]"
     }
    },
    "5466ce73f8c44442a7493abef3cf790d": {
     "model_module": "@jupyter-widgets/base",
     "model_name": "LayoutModel",
     "model_module_version": "1.2.0",
     "state": {
      "_model_module": "@jupyter-widgets/base",
      "_model_module_version": "1.2.0",
      "_model_name": "LayoutModel",
      "_view_count": null,
      "_view_module": "@jupyter-widgets/base",
      "_view_module_version": "1.2.0",
      "_view_name": "LayoutView",
      "align_content": null,
      "align_items": null,
      "align_self": null,
      "border": null,
      "bottom": null,
      "display": null,
      "flex": null,
      "flex_flow": null,
      "grid_area": null,
      "grid_auto_columns": null,
      "grid_auto_flow": null,
      "grid_auto_rows": null,
      "grid_column": null,
      "grid_gap": null,
      "grid_row": null,
      "grid_template_areas": null,
      "grid_template_columns": null,
      "grid_template_rows": null,
      "height": null,
      "justify_content": null,
      "justify_items": null,
      "left": null,
      "margin": null,
      "max_height": null,
      "max_width": null,
      "min_height": null,
      "min_width": null,
      "object_fit": null,
      "object_position": null,
      "order": null,
      "overflow": null,
      "overflow_x": null,
      "overflow_y": null,
      "padding": null,
      "right": null,
      "top": null,
      "visibility": null,
      "width": null
     }
    },
    "b1f82a9ba82943339a66a11f397456e7": {
     "model_module": "@jupyter-widgets/base",
     "model_name": "LayoutModel",
     "model_module_version": "1.2.0",
     "state": {
      "_model_module": "@jupyter-widgets/base",
      "_model_module_version": "1.2.0",
      "_model_name": "LayoutModel",
      "_view_count": null,
      "_view_module": "@jupyter-widgets/base",
      "_view_module_version": "1.2.0",
      "_view_name": "LayoutView",
      "align_content": null,
      "align_items": null,
      "align_self": null,
      "border": null,
      "bottom": null,
      "display": null,
      "flex": null,
      "flex_flow": null,
      "grid_area": null,
      "grid_auto_columns": null,
      "grid_auto_flow": null,
      "grid_auto_rows": null,
      "grid_column": null,
      "grid_gap": null,
      "grid_row": null,
      "grid_template_areas": null,
      "grid_template_columns": null,
      "grid_template_rows": null,
      "height": null,
      "justify_content": null,
      "justify_items": null,
      "left": null,
      "margin": null,
      "max_height": null,
      "max_width": null,
      "min_height": null,
      "min_width": null,
      "object_fit": null,
      "object_position": null,
      "order": null,
      "overflow": null,
      "overflow_x": null,
      "overflow_y": null,
      "padding": null,
      "right": null,
      "top": null,
      "visibility": null,
      "width": null
     }
    },
    "9615f80f93f04988bda9bbc1768c1a81": {
     "model_module": "@jupyter-widgets/controls",
     "model_name": "DescriptionStyleModel",
     "model_module_version": "1.5.0",
     "state": {
      "_model_module": "@jupyter-widgets/controls",
      "_model_module_version": "1.5.0",
      "_model_name": "DescriptionStyleModel",
      "_view_count": null,
      "_view_module": "@jupyter-widgets/base",
      "_view_module_version": "1.2.0",
      "_view_name": "StyleView",
      "description_width": ""
     }
    },
    "97cdec9b4bd649f4adb945cb4cd0fa07": {
     "model_module": "@jupyter-widgets/base",
     "model_name": "LayoutModel",
     "model_module_version": "1.2.0",
     "state": {
      "_model_module": "@jupyter-widgets/base",
      "_model_module_version": "1.2.0",
      "_model_name": "LayoutModel",
      "_view_count": null,
      "_view_module": "@jupyter-widgets/base",
      "_view_module_version": "1.2.0",
      "_view_name": "LayoutView",
      "align_content": null,
      "align_items": null,
      "align_self": null,
      "border": null,
      "bottom": null,
      "display": null,
      "flex": null,
      "flex_flow": null,
      "grid_area": null,
      "grid_auto_columns": null,
      "grid_auto_flow": null,
      "grid_auto_rows": null,
      "grid_column": null,
      "grid_gap": null,
      "grid_row": null,
      "grid_template_areas": null,
      "grid_template_columns": null,
      "grid_template_rows": null,
      "height": null,
      "justify_content": null,
      "justify_items": null,
      "left": null,
      "margin": null,
      "max_height": null,
      "max_width": null,
      "min_height": null,
      "min_width": null,
      "object_fit": null,
      "object_position": null,
      "order": null,
      "overflow": null,
      "overflow_x": null,
      "overflow_y": null,
      "padding": null,
      "right": null,
      "top": null,
      "visibility": null,
      "width": null
     }
    },
    "c8f2ecb6dc614394b23bfcdd31ba0f85": {
     "model_module": "@jupyter-widgets/controls",
     "model_name": "ProgressStyleModel",
     "model_module_version": "1.5.0",
     "state": {
      "_model_module": "@jupyter-widgets/controls",
      "_model_module_version": "1.5.0",
      "_model_name": "ProgressStyleModel",
      "_view_count": null,
      "_view_module": "@jupyter-widgets/base",
      "_view_module_version": "1.2.0",
      "_view_name": "StyleView",
      "bar_color": null,
      "description_width": ""
     }
    },
    "2e9e4a109f69457fbd4ad4e777684c3f": {
     "model_module": "@jupyter-widgets/base",
     "model_name": "LayoutModel",
     "model_module_version": "1.2.0",
     "state": {
      "_model_module": "@jupyter-widgets/base",
      "_model_module_version": "1.2.0",
      "_model_name": "LayoutModel",
      "_view_count": null,
      "_view_module": "@jupyter-widgets/base",
      "_view_module_version": "1.2.0",
      "_view_name": "LayoutView",
      "align_content": null,
      "align_items": null,
      "align_self": null,
      "border": null,
      "bottom": null,
      "display": null,
      "flex": null,
      "flex_flow": null,
      "grid_area": null,
      "grid_auto_columns": null,
      "grid_auto_flow": null,
      "grid_auto_rows": null,
      "grid_column": null,
      "grid_gap": null,
      "grid_row": null,
      "grid_template_areas": null,
      "grid_template_columns": null,
      "grid_template_rows": null,
      "height": null,
      "justify_content": null,
      "justify_items": null,
      "left": null,
      "margin": null,
      "max_height": null,
      "max_width": null,
      "min_height": null,
      "min_width": null,
      "object_fit": null,
      "object_position": null,
      "order": null,
      "overflow": null,
      "overflow_x": null,
      "overflow_y": null,
      "padding": null,
      "right": null,
      "top": null,
      "visibility": null,
      "width": null
     }
    },
    "d5953c5374ed4522bf3b1012d8be84e5": {
     "model_module": "@jupyter-widgets/controls",
     "model_name": "DescriptionStyleModel",
     "model_module_version": "1.5.0",
     "state": {
      "_model_module": "@jupyter-widgets/controls",
      "_model_module_version": "1.5.0",
      "_model_name": "DescriptionStyleModel",
      "_view_count": null,
      "_view_module": "@jupyter-widgets/base",
      "_view_module_version": "1.2.0",
      "_view_name": "StyleView",
      "description_width": ""
     }
    },
    "933852719ab94dd49d8bce4037de7afc": {
     "model_module": "@jupyter-widgets/controls",
     "model_name": "HBoxModel",
     "model_module_version": "1.5.0",
     "state": {
      "_dom_classes": [],
      "_model_module": "@jupyter-widgets/controls",
      "_model_module_version": "1.5.0",
      "_model_name": "HBoxModel",
      "_view_count": null,
      "_view_module": "@jupyter-widgets/controls",
      "_view_module_version": "1.5.0",
      "_view_name": "HBoxView",
      "box_style": "",
      "children": [
       "IPY_MODEL_32539966f1c64ba5b60d8dfc69488a3c",
       "IPY_MODEL_1340fcc565c7440ebf0d91171c076705",
       "IPY_MODEL_34f6e1ee364d4e58ba07e445d13c0a6a"
      ],
      "layout": "IPY_MODEL_30f4aa9437ee4a52a7429595368a95ce"
     }
    },
    "32539966f1c64ba5b60d8dfc69488a3c": {
     "model_module": "@jupyter-widgets/controls",
     "model_name": "HTMLModel",
     "model_module_version": "1.5.0",
     "state": {
      "_dom_classes": [],
      "_model_module": "@jupyter-widgets/controls",
      "_model_module_version": "1.5.0",
      "_model_name": "HTMLModel",
      "_view_count": null,
      "_view_module": "@jupyter-widgets/controls",
      "_view_module_version": "1.5.0",
      "_view_name": "HTMLView",
      "description": "",
      "description_tooltip": null,
      "layout": "IPY_MODEL_c37dd8abe5f24c85b076e6dc8cfa3783",
      "placeholder": "​",
      "style": "IPY_MODEL_55704aa64a52447b9eb871b075730ebe",
      "value": "Batches: 100%"
     }
    },
    "1340fcc565c7440ebf0d91171c076705": {
     "model_module": "@jupyter-widgets/controls",
     "model_name": "FloatProgressModel",
     "model_module_version": "1.5.0",
     "state": {
      "_dom_classes": [],
      "_model_module": "@jupyter-widgets/controls",
      "_model_module_version": "1.5.0",
      "_model_name": "FloatProgressModel",
      "_view_count": null,
      "_view_module": "@jupyter-widgets/controls",
      "_view_module_version": "1.5.0",
      "_view_name": "ProgressView",
      "bar_style": "success",
      "description": "",
      "description_tooltip": null,
      "layout": "IPY_MODEL_f3a6ed823df14ca7a1316906c76b1d6b",
      "max": 30,
      "min": 0,
      "orientation": "horizontal",
      "style": "IPY_MODEL_09d14d0656d6456593e339a42030c24f",
      "value": 30
     }
    },
    "34f6e1ee364d4e58ba07e445d13c0a6a": {
     "model_module": "@jupyter-widgets/controls",
     "model_name": "HTMLModel",
     "model_module_version": "1.5.0",
     "state": {
      "_dom_classes": [],
      "_model_module": "@jupyter-widgets/controls",
      "_model_module_version": "1.5.0",
      "_model_name": "HTMLModel",
      "_view_count": null,
      "_view_module": "@jupyter-widgets/controls",
      "_view_module_version": "1.5.0",
      "_view_name": "HTMLView",
      "description": "",
      "description_tooltip": null,
      "layout": "IPY_MODEL_2d127fe04fd54c5c899f6edb15de6f16",
      "placeholder": "​",
      "style": "IPY_MODEL_abc13a1872324c488f831acaa8826ab8",
      "value": " 30/30 [00:02&lt;00:00, 21.18it/s]"
     }
    },
    "30f4aa9437ee4a52a7429595368a95ce": {
     "model_module": "@jupyter-widgets/base",
     "model_name": "LayoutModel",
     "model_module_version": "1.2.0",
     "state": {
      "_model_module": "@jupyter-widgets/base",
      "_model_module_version": "1.2.0",
      "_model_name": "LayoutModel",
      "_view_count": null,
      "_view_module": "@jupyter-widgets/base",
      "_view_module_version": "1.2.0",
      "_view_name": "LayoutView",
      "align_content": null,
      "align_items": null,
      "align_self": null,
      "border": null,
      "bottom": null,
      "display": null,
      "flex": null,
      "flex_flow": null,
      "grid_area": null,
      "grid_auto_columns": null,
      "grid_auto_flow": null,
      "grid_auto_rows": null,
      "grid_column": null,
      "grid_gap": null,
      "grid_row": null,
      "grid_template_areas": null,
      "grid_template_columns": null,
      "grid_template_rows": null,
      "height": null,
      "justify_content": null,
      "justify_items": null,
      "left": null,
      "margin": null,
      "max_height": null,
      "max_width": null,
      "min_height": null,
      "min_width": null,
      "object_fit": null,
      "object_position": null,
      "order": null,
      "overflow": null,
      "overflow_x": null,
      "overflow_y": null,
      "padding": null,
      "right": null,
      "top": null,
      "visibility": null,
      "width": null
     }
    },
    "c37dd8abe5f24c85b076e6dc8cfa3783": {
     "model_module": "@jupyter-widgets/base",
     "model_name": "LayoutModel",
     "model_module_version": "1.2.0",
     "state": {
      "_model_module": "@jupyter-widgets/base",
      "_model_module_version": "1.2.0",
      "_model_name": "LayoutModel",
      "_view_count": null,
      "_view_module": "@jupyter-widgets/base",
      "_view_module_version": "1.2.0",
      "_view_name": "LayoutView",
      "align_content": null,
      "align_items": null,
      "align_self": null,
      "border": null,
      "bottom": null,
      "display": null,
      "flex": null,
      "flex_flow": null,
      "grid_area": null,
      "grid_auto_columns": null,
      "grid_auto_flow": null,
      "grid_auto_rows": null,
      "grid_column": null,
      "grid_gap": null,
      "grid_row": null,
      "grid_template_areas": null,
      "grid_template_columns": null,
      "grid_template_rows": null,
      "height": null,
      "justify_content": null,
      "justify_items": null,
      "left": null,
      "margin": null,
      "max_height": null,
      "max_width": null,
      "min_height": null,
      "min_width": null,
      "object_fit": null,
      "object_position": null,
      "order": null,
      "overflow": null,
      "overflow_x": null,
      "overflow_y": null,
      "padding": null,
      "right": null,
      "top": null,
      "visibility": null,
      "width": null
     }
    },
    "55704aa64a52447b9eb871b075730ebe": {
     "model_module": "@jupyter-widgets/controls",
     "model_name": "DescriptionStyleModel",
     "model_module_version": "1.5.0",
     "state": {
      "_model_module": "@jupyter-widgets/controls",
      "_model_module_version": "1.5.0",
      "_model_name": "DescriptionStyleModel",
      "_view_count": null,
      "_view_module": "@jupyter-widgets/base",
      "_view_module_version": "1.2.0",
      "_view_name": "StyleView",
      "description_width": ""
     }
    },
    "f3a6ed823df14ca7a1316906c76b1d6b": {
     "model_module": "@jupyter-widgets/base",
     "model_name": "LayoutModel",
     "model_module_version": "1.2.0",
     "state": {
      "_model_module": "@jupyter-widgets/base",
      "_model_module_version": "1.2.0",
      "_model_name": "LayoutModel",
      "_view_count": null,
      "_view_module": "@jupyter-widgets/base",
      "_view_module_version": "1.2.0",
      "_view_name": "LayoutView",
      "align_content": null,
      "align_items": null,
      "align_self": null,
      "border": null,
      "bottom": null,
      "display": null,
      "flex": null,
      "flex_flow": null,
      "grid_area": null,
      "grid_auto_columns": null,
      "grid_auto_flow": null,
      "grid_auto_rows": null,
      "grid_column": null,
      "grid_gap": null,
      "grid_row": null,
      "grid_template_areas": null,
      "grid_template_columns": null,
      "grid_template_rows": null,
      "height": null,
      "justify_content": null,
      "justify_items": null,
      "left": null,
      "margin": null,
      "max_height": null,
      "max_width": null,
      "min_height": null,
      "min_width": null,
      "object_fit": null,
      "object_position": null,
      "order": null,
      "overflow": null,
      "overflow_x": null,
      "overflow_y": null,
      "padding": null,
      "right": null,
      "top": null,
      "visibility": null,
      "width": null
     }
    },
    "09d14d0656d6456593e339a42030c24f": {
     "model_module": "@jupyter-widgets/controls",
     "model_name": "ProgressStyleModel",
     "model_module_version": "1.5.0",
     "state": {
      "_model_module": "@jupyter-widgets/controls",
      "_model_module_version": "1.5.0",
      "_model_name": "ProgressStyleModel",
      "_view_count": null,
      "_view_module": "@jupyter-widgets/base",
      "_view_module_version": "1.2.0",
      "_view_name": "StyleView",
      "bar_color": null,
      "description_width": ""
     }
    },
    "2d127fe04fd54c5c899f6edb15de6f16": {
     "model_module": "@jupyter-widgets/base",
     "model_name": "LayoutModel",
     "model_module_version": "1.2.0",
     "state": {
      "_model_module": "@jupyter-widgets/base",
      "_model_module_version": "1.2.0",
      "_model_name": "LayoutModel",
      "_view_count": null,
      "_view_module": "@jupyter-widgets/base",
      "_view_module_version": "1.2.0",
      "_view_name": "LayoutView",
      "align_content": null,
      "align_items": null,
      "align_self": null,
      "border": null,
      "bottom": null,
      "display": null,
      "flex": null,
      "flex_flow": null,
      "grid_area": null,
      "grid_auto_columns": null,
      "grid_auto_flow": null,
      "grid_auto_rows": null,
      "grid_column": null,
      "grid_gap": null,
      "grid_row": null,
      "grid_template_areas": null,
      "grid_template_columns": null,
      "grid_template_rows": null,
      "height": null,
      "justify_content": null,
      "justify_items": null,
      "left": null,
      "margin": null,
      "max_height": null,
      "max_width": null,
      "min_height": null,
      "min_width": null,
      "object_fit": null,
      "object_position": null,
      "order": null,
      "overflow": null,
      "overflow_x": null,
      "overflow_y": null,
      "padding": null,
      "right": null,
      "top": null,
      "visibility": null,
      "width": null
     }
    },
    "abc13a1872324c488f831acaa8826ab8": {
     "model_module": "@jupyter-widgets/controls",
     "model_name": "DescriptionStyleModel",
     "model_module_version": "1.5.0",
     "state": {
      "_model_module": "@jupyter-widgets/controls",
      "_model_module_version": "1.5.0",
      "_model_name": "DescriptionStyleModel",
      "_view_count": null,
      "_view_module": "@jupyter-widgets/base",
      "_view_module_version": "1.2.0",
      "_view_name": "StyleView",
      "description_width": ""
     }
    },
    "985dc42b976e4c24ad194adef61dd77a": {
     "model_module": "@jupyter-widgets/controls",
     "model_name": "HBoxModel",
     "model_module_version": "1.5.0",
     "state": {
      "_dom_classes": [],
      "_model_module": "@jupyter-widgets/controls",
      "_model_module_version": "1.5.0",
      "_model_name": "HBoxModel",
      "_view_count": null,
      "_view_module": "@jupyter-widgets/controls",
      "_view_module_version": "1.5.0",
      "_view_name": "HBoxView",
      "box_style": "",
      "children": [
       "IPY_MODEL_8c5e2d526c8445b3aa9df012f6640928",
       "IPY_MODEL_832d16b2c8de432eb8f4b5b015789b1f",
       "IPY_MODEL_8523dd99ce914e85afb5a11a052d5af7"
      ],
      "layout": "IPY_MODEL_87c9ae5fd40740b991cc46efc8e82959"
     }
    },
    "8c5e2d526c8445b3aa9df012f6640928": {
     "model_module": "@jupyter-widgets/controls",
     "model_name": "HTMLModel",
     "model_module_version": "1.5.0",
     "state": {
      "_dom_classes": [],
      "_model_module": "@jupyter-widgets/controls",
      "_model_module_version": "1.5.0",
      "_model_name": "HTMLModel",
      "_view_count": null,
      "_view_module": "@jupyter-widgets/controls",
      "_view_module_version": "1.5.0",
      "_view_name": "HTMLView",
      "description": "",
      "description_tooltip": null,
      "layout": "IPY_MODEL_12d12fab456843808e54433aa763cf11",
      "placeholder": "​",
      "style": "IPY_MODEL_d68772df55df47568af8d7ddaf01692a",
      "value": "Batches: 100%"
     }
    },
    "832d16b2c8de432eb8f4b5b015789b1f": {
     "model_module": "@jupyter-widgets/controls",
     "model_name": "FloatProgressModel",
     "model_module_version": "1.5.0",
     "state": {
      "_dom_classes": [],
      "_model_module": "@jupyter-widgets/controls",
      "_model_module_version": "1.5.0",
      "_model_name": "FloatProgressModel",
      "_view_count": null,
      "_view_module": "@jupyter-widgets/controls",
      "_view_module_version": "1.5.0",
      "_view_name": "ProgressView",
      "bar_style": "success",
      "description": "",
      "description_tooltip": null,
      "layout": "IPY_MODEL_209b1e7f2e5046a7a9e4681fcaf52828",
      "max": 16,
      "min": 0,
      "orientation": "horizontal",
      "style": "IPY_MODEL_492c7a862e8749868dfb995cdb5608ee",
      "value": 16
     }
    },
    "8523dd99ce914e85afb5a11a052d5af7": {
     "model_module": "@jupyter-widgets/controls",
     "model_name": "HTMLModel",
     "model_module_version": "1.5.0",
     "state": {
      "_dom_classes": [],
      "_model_module": "@jupyter-widgets/controls",
      "_model_module_version": "1.5.0",
      "_model_name": "HTMLModel",
      "_view_count": null,
      "_view_module": "@jupyter-widgets/controls",
      "_view_module_version": "1.5.0",
      "_view_name": "HTMLView",
      "description": "",
      "description_tooltip": null,
      "layout": "IPY_MODEL_c3fdbe25ea2e469cb32ff43f617f3026",
      "placeholder": "​",
      "style": "IPY_MODEL_3e1c17ffbcbf4f51a1ffde562211c2d3",
      "value": " 16/16 [00:00&lt;00:00, 45.60it/s]"
     }
    },
    "87c9ae5fd40740b991cc46efc8e82959": {
     "model_module": "@jupyter-widgets/base",
     "model_name": "LayoutModel",
     "model_module_version": "1.2.0",
     "state": {
      "_model_module": "@jupyter-widgets/base",
      "_model_module_version": "1.2.0",
      "_model_name": "LayoutModel",
      "_view_count": null,
      "_view_module": "@jupyter-widgets/base",
      "_view_module_version": "1.2.0",
      "_view_name": "LayoutView",
      "align_content": null,
      "align_items": null,
      "align_self": null,
      "border": null,
      "bottom": null,
      "display": null,
      "flex": null,
      "flex_flow": null,
      "grid_area": null,
      "grid_auto_columns": null,
      "grid_auto_flow": null,
      "grid_auto_rows": null,
      "grid_column": null,
      "grid_gap": null,
      "grid_row": null,
      "grid_template_areas": null,
      "grid_template_columns": null,
      "grid_template_rows": null,
      "height": null,
      "justify_content": null,
      "justify_items": null,
      "left": null,
      "margin": null,
      "max_height": null,
      "max_width": null,
      "min_height": null,
      "min_width": null,
      "object_fit": null,
      "object_position": null,
      "order": null,
      "overflow": null,
      "overflow_x": null,
      "overflow_y": null,
      "padding": null,
      "right": null,
      "top": null,
      "visibility": null,
      "width": null
     }
    },
    "12d12fab456843808e54433aa763cf11": {
     "model_module": "@jupyter-widgets/base",
     "model_name": "LayoutModel",
     "model_module_version": "1.2.0",
     "state": {
      "_model_module": "@jupyter-widgets/base",
      "_model_module_version": "1.2.0",
      "_model_name": "LayoutModel",
      "_view_count": null,
      "_view_module": "@jupyter-widgets/base",
      "_view_module_version": "1.2.0",
      "_view_name": "LayoutView",
      "align_content": null,
      "align_items": null,
      "align_self": null,
      "border": null,
      "bottom": null,
      "display": null,
      "flex": null,
      "flex_flow": null,
      "grid_area": null,
      "grid_auto_columns": null,
      "grid_auto_flow": null,
      "grid_auto_rows": null,
      "grid_column": null,
      "grid_gap": null,
      "grid_row": null,
      "grid_template_areas": null,
      "grid_template_columns": null,
      "grid_template_rows": null,
      "height": null,
      "justify_content": null,
      "justify_items": null,
      "left": null,
      "margin": null,
      "max_height": null,
      "max_width": null,
      "min_height": null,
      "min_width": null,
      "object_fit": null,
      "object_position": null,
      "order": null,
      "overflow": null,
      "overflow_x": null,
      "overflow_y": null,
      "padding": null,
      "right": null,
      "top": null,
      "visibility": null,
      "width": null
     }
    },
    "d68772df55df47568af8d7ddaf01692a": {
     "model_module": "@jupyter-widgets/controls",
     "model_name": "DescriptionStyleModel",
     "model_module_version": "1.5.0",
     "state": {
      "_model_module": "@jupyter-widgets/controls",
      "_model_module_version": "1.5.0",
      "_model_name": "DescriptionStyleModel",
      "_view_count": null,
      "_view_module": "@jupyter-widgets/base",
      "_view_module_version": "1.2.0",
      "_view_name": "StyleView",
      "description_width": ""
     }
    },
    "209b1e7f2e5046a7a9e4681fcaf52828": {
     "model_module": "@jupyter-widgets/base",
     "model_name": "LayoutModel",
     "model_module_version": "1.2.0",
     "state": {
      "_model_module": "@jupyter-widgets/base",
      "_model_module_version": "1.2.0",
      "_model_name": "LayoutModel",
      "_view_count": null,
      "_view_module": "@jupyter-widgets/base",
      "_view_module_version": "1.2.0",
      "_view_name": "LayoutView",
      "align_content": null,
      "align_items": null,
      "align_self": null,
      "border": null,
      "bottom": null,
      "display": null,
      "flex": null,
      "flex_flow": null,
      "grid_area": null,
      "grid_auto_columns": null,
      "grid_auto_flow": null,
      "grid_auto_rows": null,
      "grid_column": null,
      "grid_gap": null,
      "grid_row": null,
      "grid_template_areas": null,
      "grid_template_columns": null,
      "grid_template_rows": null,
      "height": null,
      "justify_content": null,
      "justify_items": null,
      "left": null,
      "margin": null,
      "max_height": null,
      "max_width": null,
      "min_height": null,
      "min_width": null,
      "object_fit": null,
      "object_position": null,
      "order": null,
      "overflow": null,
      "overflow_x": null,
      "overflow_y": null,
      "padding": null,
      "right": null,
      "top": null,
      "visibility": null,
      "width": null
     }
    },
    "492c7a862e8749868dfb995cdb5608ee": {
     "model_module": "@jupyter-widgets/controls",
     "model_name": "ProgressStyleModel",
     "model_module_version": "1.5.0",
     "state": {
      "_model_module": "@jupyter-widgets/controls",
      "_model_module_version": "1.5.0",
      "_model_name": "ProgressStyleModel",
      "_view_count": null,
      "_view_module": "@jupyter-widgets/base",
      "_view_module_version": "1.2.0",
      "_view_name": "StyleView",
      "bar_color": null,
      "description_width": ""
     }
    },
    "c3fdbe25ea2e469cb32ff43f617f3026": {
     "model_module": "@jupyter-widgets/base",
     "model_name": "LayoutModel",
     "model_module_version": "1.2.0",
     "state": {
      "_model_module": "@jupyter-widgets/base",
      "_model_module_version": "1.2.0",
      "_model_name": "LayoutModel",
      "_view_count": null,
      "_view_module": "@jupyter-widgets/base",
      "_view_module_version": "1.2.0",
      "_view_name": "LayoutView",
      "align_content": null,
      "align_items": null,
      "align_self": null,
      "border": null,
      "bottom": null,
      "display": null,
      "flex": null,
      "flex_flow": null,
      "grid_area": null,
      "grid_auto_columns": null,
      "grid_auto_flow": null,
      "grid_auto_rows": null,
      "grid_column": null,
      "grid_gap": null,
      "grid_row": null,
      "grid_template_areas": null,
      "grid_template_columns": null,
      "grid_template_rows": null,
      "height": null,
      "justify_content": null,
      "justify_items": null,
      "left": null,
      "margin": null,
      "max_height": null,
      "max_width": null,
      "min_height": null,
      "min_width": null,
      "object_fit": null,
      "object_position": null,
      "order": null,
      "overflow": null,
      "overflow_x": null,
      "overflow_y": null,
      "padding": null,
      "right": null,
      "top": null,
      "visibility": null,
      "width": null
     }
    },
    "3e1c17ffbcbf4f51a1ffde562211c2d3": {
     "model_module": "@jupyter-widgets/controls",
     "model_name": "DescriptionStyleModel",
     "model_module_version": "1.5.0",
     "state": {
      "_model_module": "@jupyter-widgets/controls",
      "_model_module_version": "1.5.0",
      "_model_name": "DescriptionStyleModel",
      "_view_count": null,
      "_view_module": "@jupyter-widgets/base",
      "_view_module_version": "1.2.0",
      "_view_name": "StyleView",
      "description_width": ""
     }
    },
    "90abb3dadfe0479f898d485c787c6400": {
     "model_module": "@jupyter-widgets/controls",
     "model_name": "HBoxModel",
     "model_module_version": "1.5.0",
     "state": {
      "_dom_classes": [],
      "_model_module": "@jupyter-widgets/controls",
      "_model_module_version": "1.5.0",
      "_model_name": "HBoxModel",
      "_view_count": null,
      "_view_module": "@jupyter-widgets/controls",
      "_view_module_version": "1.5.0",
      "_view_name": "HBoxView",
      "box_style": "",
      "children": [
       "IPY_MODEL_6d7ddc0566da44a597a0a85e01432c76",
       "IPY_MODEL_f13c7ee943d7474e8b800d08d517db68",
       "IPY_MODEL_c84241119cc745ccb7c7aecfa0c6fd2c"
      ],
      "layout": "IPY_MODEL_80f7e6e2b0bc40f6974a6e0ecb20e34b"
     }
    },
    "6d7ddc0566da44a597a0a85e01432c76": {
     "model_module": "@jupyter-widgets/controls",
     "model_name": "HTMLModel",
     "model_module_version": "1.5.0",
     "state": {
      "_dom_classes": [],
      "_model_module": "@jupyter-widgets/controls",
      "_model_module_version": "1.5.0",
      "_model_name": "HTMLModel",
      "_view_count": null,
      "_view_module": "@jupyter-widgets/controls",
      "_view_module_version": "1.5.0",
      "_view_name": "HTMLView",
      "description": "",
      "description_tooltip": null,
      "layout": "IPY_MODEL_2ad3e28711bc4bcb94f2990a57d7ab17",
      "placeholder": "​",
      "style": "IPY_MODEL_0eacc4367d8843898dfa85a9bac644dd",
      "value": "Batches: 100%"
     }
    },
    "f13c7ee943d7474e8b800d08d517db68": {
     "model_module": "@jupyter-widgets/controls",
     "model_name": "FloatProgressModel",
     "model_module_version": "1.5.0",
     "state": {
      "_dom_classes": [],
      "_model_module": "@jupyter-widgets/controls",
      "_model_module_version": "1.5.0",
      "_model_name": "FloatProgressModel",
      "_view_count": null,
      "_view_module": "@jupyter-widgets/controls",
      "_view_module_version": "1.5.0",
      "_view_name": "ProgressView",
      "bar_style": "success",
      "description": "",
      "description_tooltip": null,
      "layout": "IPY_MODEL_1822e85fe5744d1aa0b4a0b6231f9451",
      "max": 8,
      "min": 0,
      "orientation": "horizontal",
      "style": "IPY_MODEL_55b83f0119064eeda79b6de7a970b2d8",
      "value": 8
     }
    },
    "c84241119cc745ccb7c7aecfa0c6fd2c": {
     "model_module": "@jupyter-widgets/controls",
     "model_name": "HTMLModel",
     "model_module_version": "1.5.0",
     "state": {
      "_dom_classes": [],
      "_model_module": "@jupyter-widgets/controls",
      "_model_module_version": "1.5.0",
      "_model_name": "HTMLModel",
      "_view_count": null,
      "_view_module": "@jupyter-widgets/controls",
      "_view_module_version": "1.5.0",
      "_view_name": "HTMLView",
      "description": "",
      "description_tooltip": null,
      "layout": "IPY_MODEL_8410324854184e9ca7a333513d906af4",
      "placeholder": "​",
      "style": "IPY_MODEL_9480c254be284afebe945d9ef8869a16",
      "value": " 8/8 [00:00&lt;00:00, 49.63it/s]"
     }
    },
    "80f7e6e2b0bc40f6974a6e0ecb20e34b": {
     "model_module": "@jupyter-widgets/base",
     "model_name": "LayoutModel",
     "model_module_version": "1.2.0",
     "state": {
      "_model_module": "@jupyter-widgets/base",
      "_model_module_version": "1.2.0",
      "_model_name": "LayoutModel",
      "_view_count": null,
      "_view_module": "@jupyter-widgets/base",
      "_view_module_version": "1.2.0",
      "_view_name": "LayoutView",
      "align_content": null,
      "align_items": null,
      "align_self": null,
      "border": null,
      "bottom": null,
      "display": null,
      "flex": null,
      "flex_flow": null,
      "grid_area": null,
      "grid_auto_columns": null,
      "grid_auto_flow": null,
      "grid_auto_rows": null,
      "grid_column": null,
      "grid_gap": null,
      "grid_row": null,
      "grid_template_areas": null,
      "grid_template_columns": null,
      "grid_template_rows": null,
      "height": null,
      "justify_content": null,
      "justify_items": null,
      "left": null,
      "margin": null,
      "max_height": null,
      "max_width": null,
      "min_height": null,
      "min_width": null,
      "object_fit": null,
      "object_position": null,
      "order": null,
      "overflow": null,
      "overflow_x": null,
      "overflow_y": null,
      "padding": null,
      "right": null,
      "top": null,
      "visibility": null,
      "width": null
     }
    },
    "2ad3e28711bc4bcb94f2990a57d7ab17": {
     "model_module": "@jupyter-widgets/base",
     "model_name": "LayoutModel",
     "model_module_version": "1.2.0",
     "state": {
      "_model_module": "@jupyter-widgets/base",
      "_model_module_version": "1.2.0",
      "_model_name": "LayoutModel",
      "_view_count": null,
      "_view_module": "@jupyter-widgets/base",
      "_view_module_version": "1.2.0",
      "_view_name": "LayoutView",
      "align_content": null,
      "align_items": null,
      "align_self": null,
      "border": null,
      "bottom": null,
      "display": null,
      "flex": null,
      "flex_flow": null,
      "grid_area": null,
      "grid_auto_columns": null,
      "grid_auto_flow": null,
      "grid_auto_rows": null,
      "grid_column": null,
      "grid_gap": null,
      "grid_row": null,
      "grid_template_areas": null,
      "grid_template_columns": null,
      "grid_template_rows": null,
      "height": null,
      "justify_content": null,
      "justify_items": null,
      "left": null,
      "margin": null,
      "max_height": null,
      "max_width": null,
      "min_height": null,
      "min_width": null,
      "object_fit": null,
      "object_position": null,
      "order": null,
      "overflow": null,
      "overflow_x": null,
      "overflow_y": null,
      "padding": null,
      "right": null,
      "top": null,
      "visibility": null,
      "width": null
     }
    },
    "0eacc4367d8843898dfa85a9bac644dd": {
     "model_module": "@jupyter-widgets/controls",
     "model_name": "DescriptionStyleModel",
     "model_module_version": "1.5.0",
     "state": {
      "_model_module": "@jupyter-widgets/controls",
      "_model_module_version": "1.5.0",
      "_model_name": "DescriptionStyleModel",
      "_view_count": null,
      "_view_module": "@jupyter-widgets/base",
      "_view_module_version": "1.2.0",
      "_view_name": "StyleView",
      "description_width": ""
     }
    },
    "1822e85fe5744d1aa0b4a0b6231f9451": {
     "model_module": "@jupyter-widgets/base",
     "model_name": "LayoutModel",
     "model_module_version": "1.2.0",
     "state": {
      "_model_module": "@jupyter-widgets/base",
      "_model_module_version": "1.2.0",
      "_model_name": "LayoutModel",
      "_view_count": null,
      "_view_module": "@jupyter-widgets/base",
      "_view_module_version": "1.2.0",
      "_view_name": "LayoutView",
      "align_content": null,
      "align_items": null,
      "align_self": null,
      "border": null,
      "bottom": null,
      "display": null,
      "flex": null,
      "flex_flow": null,
      "grid_area": null,
      "grid_auto_columns": null,
      "grid_auto_flow": null,
      "grid_auto_rows": null,
      "grid_column": null,
      "grid_gap": null,
      "grid_row": null,
      "grid_template_areas": null,
      "grid_template_columns": null,
      "grid_template_rows": null,
      "height": null,
      "justify_content": null,
      "justify_items": null,
      "left": null,
      "margin": null,
      "max_height": null,
      "max_width": null,
      "min_height": null,
      "min_width": null,
      "object_fit": null,
      "object_position": null,
      "order": null,
      "overflow": null,
      "overflow_x": null,
      "overflow_y": null,
      "padding": null,
      "right": null,
      "top": null,
      "visibility": null,
      "width": null
     }
    },
    "55b83f0119064eeda79b6de7a970b2d8": {
     "model_module": "@jupyter-widgets/controls",
     "model_name": "ProgressStyleModel",
     "model_module_version": "1.5.0",
     "state": {
      "_model_module": "@jupyter-widgets/controls",
      "_model_module_version": "1.5.0",
      "_model_name": "ProgressStyleModel",
      "_view_count": null,
      "_view_module": "@jupyter-widgets/base",
      "_view_module_version": "1.2.0",
      "_view_name": "StyleView",
      "bar_color": null,
      "description_width": ""
     }
    },
    "8410324854184e9ca7a333513d906af4": {
     "model_module": "@jupyter-widgets/base",
     "model_name": "LayoutModel",
     "model_module_version": "1.2.0",
     "state": {
      "_model_module": "@jupyter-widgets/base",
      "_model_module_version": "1.2.0",
      "_model_name": "LayoutModel",
      "_view_count": null,
      "_view_module": "@jupyter-widgets/base",
      "_view_module_version": "1.2.0",
      "_view_name": "LayoutView",
      "align_content": null,
      "align_items": null,
      "align_self": null,
      "border": null,
      "bottom": null,
      "display": null,
      "flex": null,
      "flex_flow": null,
      "grid_area": null,
      "grid_auto_columns": null,
      "grid_auto_flow": null,
      "grid_auto_rows": null,
      "grid_column": null,
      "grid_gap": null,
      "grid_row": null,
      "grid_template_areas": null,
      "grid_template_columns": null,
      "grid_template_rows": null,
      "height": null,
      "justify_content": null,
      "justify_items": null,
      "left": null,
      "margin": null,
      "max_height": null,
      "max_width": null,
      "min_height": null,
      "min_width": null,
      "object_fit": null,
      "object_position": null,
      "order": null,
      "overflow": null,
      "overflow_x": null,
      "overflow_y": null,
      "padding": null,
      "right": null,
      "top": null,
      "visibility": null,
      "width": null
     }
    },
    "9480c254be284afebe945d9ef8869a16": {
     "model_module": "@jupyter-widgets/controls",
     "model_name": "DescriptionStyleModel",
     "model_module_version": "1.5.0",
     "state": {
      "_model_module": "@jupyter-widgets/controls",
      "_model_module_version": "1.5.0",
      "_model_name": "DescriptionStyleModel",
      "_view_count": null,
      "_view_module": "@jupyter-widgets/base",
      "_view_module_version": "1.2.0",
      "_view_name": "StyleView",
      "description_width": ""
     }
    },
    "4a750e5d1a474351be8a22b406b02173": {
     "model_module": "@jupyter-widgets/controls",
     "model_name": "HBoxModel",
     "model_module_version": "1.5.0",
     "state": {
      "_dom_classes": [],
      "_model_module": "@jupyter-widgets/controls",
      "_model_module_version": "1.5.0",
      "_model_name": "HBoxModel",
      "_view_count": null,
      "_view_module": "@jupyter-widgets/controls",
      "_view_module_version": "1.5.0",
      "_view_name": "HBoxView",
      "box_style": "",
      "children": [
       "IPY_MODEL_4491b2781b7948eb8fb8bf4c43d6c52f",
       "IPY_MODEL_e2c406a9bf90498fa0234641b409e5fd",
       "IPY_MODEL_4bbc5c7b458f4e24acf71b3a0ce8d7d4"
      ],
      "layout": "IPY_MODEL_f85b60e0149a4254bcb642100596e75b"
     }
    },
    "4491b2781b7948eb8fb8bf4c43d6c52f": {
     "model_module": "@jupyter-widgets/controls",
     "model_name": "HTMLModel",
     "model_module_version": "1.5.0",
     "state": {
      "_dom_classes": [],
      "_model_module": "@jupyter-widgets/controls",
      "_model_module_version": "1.5.0",
      "_model_name": "HTMLModel",
      "_view_count": null,
      "_view_module": "@jupyter-widgets/controls",
      "_view_module_version": "1.5.0",
      "_view_name": "HTMLView",
      "description": "",
      "description_tooltip": null,
      "layout": "IPY_MODEL_203cdf4ac2ae438aafa127decefa8a57",
      "placeholder": "​",
      "style": "IPY_MODEL_fee6ee9288db406fb8ae112e4f844c30",
      "value": "Batches: 100%"
     }
    },
    "e2c406a9bf90498fa0234641b409e5fd": {
     "model_module": "@jupyter-widgets/controls",
     "model_name": "FloatProgressModel",
     "model_module_version": "1.5.0",
     "state": {
      "_dom_classes": [],
      "_model_module": "@jupyter-widgets/controls",
      "_model_module_version": "1.5.0",
      "_model_name": "FloatProgressModel",
      "_view_count": null,
      "_view_module": "@jupyter-widgets/controls",
      "_view_module_version": "1.5.0",
      "_view_name": "ProgressView",
      "bar_style": "success",
      "description": "",
      "description_tooltip": null,
      "layout": "IPY_MODEL_8571c82a2ff64e32a932ad41a38c3d36",
      "max": 13,
      "min": 0,
      "orientation": "horizontal",
      "style": "IPY_MODEL_c108c36b2d304ba39320293ca594bc16",
      "value": 13
     }
    },
    "4bbc5c7b458f4e24acf71b3a0ce8d7d4": {
     "model_module": "@jupyter-widgets/controls",
     "model_name": "HTMLModel",
     "model_module_version": "1.5.0",
     "state": {
      "_dom_classes": [],
      "_model_module": "@jupyter-widgets/controls",
      "_model_module_version": "1.5.0",
      "_model_name": "HTMLModel",
      "_view_count": null,
      "_view_module": "@jupyter-widgets/controls",
      "_view_module_version": "1.5.0",
      "_view_name": "HTMLView",
      "description": "",
      "description_tooltip": null,
      "layout": "IPY_MODEL_48315f44602c4587b0030038c5df9b64",
      "placeholder": "​",
      "style": "IPY_MODEL_70ff137e1f344993b242204cf4d57754",
      "value": " 13/13 [00:00&lt;00:00, 59.51it/s]"
     }
    },
    "f85b60e0149a4254bcb642100596e75b": {
     "model_module": "@jupyter-widgets/base",
     "model_name": "LayoutModel",
     "model_module_version": "1.2.0",
     "state": {
      "_model_module": "@jupyter-widgets/base",
      "_model_module_version": "1.2.0",
      "_model_name": "LayoutModel",
      "_view_count": null,
      "_view_module": "@jupyter-widgets/base",
      "_view_module_version": "1.2.0",
      "_view_name": "LayoutView",
      "align_content": null,
      "align_items": null,
      "align_self": null,
      "border": null,
      "bottom": null,
      "display": null,
      "flex": null,
      "flex_flow": null,
      "grid_area": null,
      "grid_auto_columns": null,
      "grid_auto_flow": null,
      "grid_auto_rows": null,
      "grid_column": null,
      "grid_gap": null,
      "grid_row": null,
      "grid_template_areas": null,
      "grid_template_columns": null,
      "grid_template_rows": null,
      "height": null,
      "justify_content": null,
      "justify_items": null,
      "left": null,
      "margin": null,
      "max_height": null,
      "max_width": null,
      "min_height": null,
      "min_width": null,
      "object_fit": null,
      "object_position": null,
      "order": null,
      "overflow": null,
      "overflow_x": null,
      "overflow_y": null,
      "padding": null,
      "right": null,
      "top": null,
      "visibility": null,
      "width": null
     }
    },
    "203cdf4ac2ae438aafa127decefa8a57": {
     "model_module": "@jupyter-widgets/base",
     "model_name": "LayoutModel",
     "model_module_version": "1.2.0",
     "state": {
      "_model_module": "@jupyter-widgets/base",
      "_model_module_version": "1.2.0",
      "_model_name": "LayoutModel",
      "_view_count": null,
      "_view_module": "@jupyter-widgets/base",
      "_view_module_version": "1.2.0",
      "_view_name": "LayoutView",
      "align_content": null,
      "align_items": null,
      "align_self": null,
      "border": null,
      "bottom": null,
      "display": null,
      "flex": null,
      "flex_flow": null,
      "grid_area": null,
      "grid_auto_columns": null,
      "grid_auto_flow": null,
      "grid_auto_rows": null,
      "grid_column": null,
      "grid_gap": null,
      "grid_row": null,
      "grid_template_areas": null,
      "grid_template_columns": null,
      "grid_template_rows": null,
      "height": null,
      "justify_content": null,
      "justify_items": null,
      "left": null,
      "margin": null,
      "max_height": null,
      "max_width": null,
      "min_height": null,
      "min_width": null,
      "object_fit": null,
      "object_position": null,
      "order": null,
      "overflow": null,
      "overflow_x": null,
      "overflow_y": null,
      "padding": null,
      "right": null,
      "top": null,
      "visibility": null,
      "width": null
     }
    },
    "fee6ee9288db406fb8ae112e4f844c30": {
     "model_module": "@jupyter-widgets/controls",
     "model_name": "DescriptionStyleModel",
     "model_module_version": "1.5.0",
     "state": {
      "_model_module": "@jupyter-widgets/controls",
      "_model_module_version": "1.5.0",
      "_model_name": "DescriptionStyleModel",
      "_view_count": null,
      "_view_module": "@jupyter-widgets/base",
      "_view_module_version": "1.2.0",
      "_view_name": "StyleView",
      "description_width": ""
     }
    },
    "8571c82a2ff64e32a932ad41a38c3d36": {
     "model_module": "@jupyter-widgets/base",
     "model_name": "LayoutModel",
     "model_module_version": "1.2.0",
     "state": {
      "_model_module": "@jupyter-widgets/base",
      "_model_module_version": "1.2.0",
      "_model_name": "LayoutModel",
      "_view_count": null,
      "_view_module": "@jupyter-widgets/base",
      "_view_module_version": "1.2.0",
      "_view_name": "LayoutView",
      "align_content": null,
      "align_items": null,
      "align_self": null,
      "border": null,
      "bottom": null,
      "display": null,
      "flex": null,
      "flex_flow": null,
      "grid_area": null,
      "grid_auto_columns": null,
      "grid_auto_flow": null,
      "grid_auto_rows": null,
      "grid_column": null,
      "grid_gap": null,
      "grid_row": null,
      "grid_template_areas": null,
      "grid_template_columns": null,
      "grid_template_rows": null,
      "height": null,
      "justify_content": null,
      "justify_items": null,
      "left": null,
      "margin": null,
      "max_height": null,
      "max_width": null,
      "min_height": null,
      "min_width": null,
      "object_fit": null,
      "object_position": null,
      "order": null,
      "overflow": null,
      "overflow_x": null,
      "overflow_y": null,
      "padding": null,
      "right": null,
      "top": null,
      "visibility": null,
      "width": null
     }
    },
    "c108c36b2d304ba39320293ca594bc16": {
     "model_module": "@jupyter-widgets/controls",
     "model_name": "ProgressStyleModel",
     "model_module_version": "1.5.0",
     "state": {
      "_model_module": "@jupyter-widgets/controls",
      "_model_module_version": "1.5.0",
      "_model_name": "ProgressStyleModel",
      "_view_count": null,
      "_view_module": "@jupyter-widgets/base",
      "_view_module_version": "1.2.0",
      "_view_name": "StyleView",
      "bar_color": null,
      "description_width": ""
     }
    },
    "48315f44602c4587b0030038c5df9b64": {
     "model_module": "@jupyter-widgets/base",
     "model_name": "LayoutModel",
     "model_module_version": "1.2.0",
     "state": {
      "_model_module": "@jupyter-widgets/base",
      "_model_module_version": "1.2.0",
      "_model_name": "LayoutModel",
      "_view_count": null,
      "_view_module": "@jupyter-widgets/base",
      "_view_module_version": "1.2.0",
      "_view_name": "LayoutView",
      "align_content": null,
      "align_items": null,
      "align_self": null,
      "border": null,
      "bottom": null,
      "display": null,
      "flex": null,
      "flex_flow": null,
      "grid_area": null,
      "grid_auto_columns": null,
      "grid_auto_flow": null,
      "grid_auto_rows": null,
      "grid_column": null,
      "grid_gap": null,
      "grid_row": null,
      "grid_template_areas": null,
      "grid_template_columns": null,
      "grid_template_rows": null,
      "height": null,
      "justify_content": null,
      "justify_items": null,
      "left": null,
      "margin": null,
      "max_height": null,
      "max_width": null,
      "min_height": null,
      "min_width": null,
      "object_fit": null,
      "object_position": null,
      "order": null,
      "overflow": null,
      "overflow_x": null,
      "overflow_y": null,
      "padding": null,
      "right": null,
      "top": null,
      "visibility": null,
      "width": null
     }
    },
    "70ff137e1f344993b242204cf4d57754": {
     "model_module": "@jupyter-widgets/controls",
     "model_name": "DescriptionStyleModel",
     "model_module_version": "1.5.0",
     "state": {
      "_model_module": "@jupyter-widgets/controls",
      "_model_module_version": "1.5.0",
      "_model_name": "DescriptionStyleModel",
      "_view_count": null,
      "_view_module": "@jupyter-widgets/base",
      "_view_module_version": "1.2.0",
      "_view_name": "StyleView",
      "description_width": ""
     }
    }
   }
  }
 },
 "nbformat": 4,
 "nbformat_minor": 5
}
